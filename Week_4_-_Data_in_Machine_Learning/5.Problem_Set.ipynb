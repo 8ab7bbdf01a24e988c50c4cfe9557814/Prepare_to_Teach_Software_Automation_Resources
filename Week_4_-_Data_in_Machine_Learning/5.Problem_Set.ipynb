{
 "cells": [
  {
   "cell_type": "markdown",
   "metadata": {},
   "source": [
    "# Week 4 - Problem Set\n",
    "\n",
    "Pratice what you learnt today with these problems, the answers will be shared on Monday before the next workshop."
   ]
  }
 ],
 "metadata": {
  "language_info": {
   "name": "python"
  }
 },
 "nbformat": 4,
 "nbformat_minor": 2
}
