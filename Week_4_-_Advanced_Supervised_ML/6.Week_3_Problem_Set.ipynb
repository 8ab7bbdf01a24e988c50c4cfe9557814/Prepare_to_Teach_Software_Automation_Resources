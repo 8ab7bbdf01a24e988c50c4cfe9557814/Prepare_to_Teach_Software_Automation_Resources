{
 "cells": [
  {
   "cell_type": "markdown",
   "metadata": {},
   "source": [
    "# Week 4 - Problem Set\n",
    "\n",
    "Pratice what you learnt today with these problems, the answers will be shared on Monday before the next workshop."
   ]
  },
  {
   "cell_type": "markdown",
   "metadata": {},
   "source": [
    "Outline how and why the output layer of a NN should be configured for Regression, binary classification and multiway classification.\n",
    "\n",
    "Describe the difference between regression and classification for KNN\n",
    "\n",
    "Explain why on KNN for classification, K should be an odd number.\n",
    "\n",
    "What is an Epoch in NN\n",
    "\n",
    "What is decision split in DT"
   ]
  }
 ],
 "metadata": {
  "language_info": {
   "name": "python"
  }
 },
 "nbformat": 4,
 "nbformat_minor": 2
}
