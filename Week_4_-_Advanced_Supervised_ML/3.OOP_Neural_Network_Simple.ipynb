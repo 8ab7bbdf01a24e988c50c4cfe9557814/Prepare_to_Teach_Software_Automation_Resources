{
  "cells": [
    {
      "cell_type": "markdown",
      "metadata": {
        "id": "jYysdyb-CaWM"
      },
      "source": [
        "#  Neural Network Linear Regression: Simple approach"
      ]
    },
    {
      "cell_type": "markdown",
      "metadata": {
        "id": "FbVhjPpzn6BM"
      },
      "source": [
        "This Jupyter Notebook trains a very simple neural network model to perform Linear Regression. We will use the NESA Course Specifications Linear Regression dataset, which students are already familiar with so, they can focus on understanding the TensorFlow OOP Neural Network implementation.\n",
        "\n",
        "#### Course Specifications\n",
        "\n",
        "<figure>\n",
        "    <center><img src=\"images\\NN_Course-Specs.png\" alt=\"Course Specs Neural Network image\" width=\"500\" />\n",
        "    <figcaption><p><em>Source: Page 29 of the Software Engineering Course Specifications</em></p>\n",
        "    </figcaption></center>\n",
        "</figure>\n",
        "\n",
        "Neural networks were designed to mimic the processing inside the human brain. They consist of a series of interconnected nodes (artificial neurones). Each neurone can accept a binary input signal and potentially output another signal to connected nodes.\n",
        "\n",
        "In the diagram, signal strength between nodes with the strongest weightings are thicker representing a higher priority in determining the final output. The 'Bias' and 'Weightings' are learnt during the training cycle and used for predictions in the execution cycle."
      ]
    },
    {
      "cell_type": "markdown",
      "metadata": {},
      "source": [
        "#### Step 1 - Import Dependencies"
      ]
    },
    {
      "cell_type": "code",
      "execution_count": 1,
      "metadata": {
        "id": "dzLKpmZICaWN"
      },
      "outputs": [
        {
          "name": "stderr",
          "output_type": "stream",
          "text": [
            "2025-05-20 06:12:36.974024: E external/local_xla/xla/stream_executor/cuda/cuda_fft.cc:467] Unable to register cuFFT factory: Attempting to register factory for plugin cuFFT when one has already been registered\n",
            "WARNING: All log messages before absl::InitializeLog() is called are written to STDERR\n",
            "E0000 00:00:1747721556.987940   55207 cuda_dnn.cc:8579] Unable to register cuDNN factory: Attempting to register factory for plugin cuDNN when one has already been registered\n",
            "E0000 00:00:1747721556.992148   55207 cuda_blas.cc:1407] Unable to register cuBLAS factory: Attempting to register factory for plugin cuBLAS when one has already been registered\n",
            "W0000 00:00:1747721557.003591   55207 computation_placer.cc:177] computation placer already registered. Please check linkage and avoid linking the same target more than once.\n",
            "W0000 00:00:1747721557.003602   55207 computation_placer.cc:177] computation placer already registered. Please check linkage and avoid linking the same target more than once.\n",
            "W0000 00:00:1747721557.003604   55207 computation_placer.cc:177] computation placer already registered. Please check linkage and avoid linking the same target more than once.\n",
            "W0000 00:00:1747721557.003606   55207 computation_placer.cc:177] computation placer already registered. Please check linkage and avoid linking the same target more than once.\n"
          ]
        },
        {
          "name": "stdout",
          "output_type": "stream",
          "text": [
            "2.19.0\n"
          ]
        }
      ],
      "source": [
        "import os\n",
        "os.environ['TF_CPP_MIN_LOG_LEVEL'] = '1' \n",
        "import tensorflow as tf\n",
        "from tensorflow.keras.models import Sequential\n",
        "from tensorflow.keras.layers import Dense, Input\n",
        "from sklearn.model_selection import train_test_split\n",
        "import numpy as np\n",
        "import matplotlib.pyplot as plt\n",
        "import pandas as pd\n",
        "from sklearn.metrics import mean_absolute_error,mean_squared_error \n",
        "\n",
        "print(tf.__version__)"
      ]
    },
    {
      "cell_type": "markdown",
      "metadata": {
        "id": "yR0EdgrLCaWR"
      },
      "source": [
        "#### Step 2: Import The Data\n",
        "We will extended the dataset, to allow for test/training splitting."
      ]
    },
    {
      "cell_type": "code",
      "execution_count": 2,
      "metadata": {
        "id": "7MqDQO0KCaWS"
      },
      "outputs": [],
      "source": [
        "#Import data as a numPy array\n",
        "# Training features\n",
        "X_feature = np.array([[-26], [-24], [-22], [-20], [-18], [-16], [-14], [-12], [-10], [-8], [-6], [-4], [-2], [0], [2], [4], [6], [8], [10], [12], [14], [16], [18], [20], [22], [24], [26]])\n",
        "\n",
        "# Target variable\n",
        "y_target = np.array([-27, -25, -23, -21, -19, -17, -15, -13, -11, -9, -7, -5, -3, -1, 1, 3, 5, 7, 9, 11, 13, 15, 17, 19, 21, 23, 25])\n"
      ]
    },
    {
      "cell_type": "markdown",
      "metadata": {},
      "source": [
        "#### Step 3: Split The Data into Training And Testing Sets"
      ]
    },
    {
      "cell_type": "code",
      "execution_count": 3,
      "metadata": {
        "id": "IjnLH5S2CaWx"
      },
      "outputs": [],
      "source": [
        "X_train, X_test, y_train, y_test = train_test_split(X_feature, y_target, test_size=0.2)"
      ]
    },
    {
      "cell_type": "markdown",
      "metadata": {},
      "source": [
        "#### Step 4: Visualise The Data"
      ]
    },
    {
      "cell_type": "code",
      "execution_count": 4,
      "metadata": {
        "id": "oZTImqg_CaW1"
      },
      "outputs": [
        {
          "data": {
            "image/png": "[encoded data removed]",
            "text/plain": [
              "<Figure size 1400x500 with 2 Axes>"
            ]
          },
          "metadata": {},
          "output_type": "display_data"
        }
      ],
      "source": [
        "# Plot the training and test data\n",
        "fig, axs = plt.subplots(1, 2, figsize=(14, 5))\n",
        "\n",
        "axs[0].scatter(X_train, y_train, s=40)\n",
        "axs[0].set_title(\"Training Data\")\n",
        "axs[0].set_xlabel(\"X\")\n",
        "axs[0].set_ylabel(\"y\")\n",
        "\n",
        "\n",
        "axs[1].scatter(X_test, y_test, s=40)\n",
        "axs[1].set_title(\"Test Data\")\n",
        "axs[1].set_xlabel(\"X\")\n",
        "axs[1].set_ylabel(\"y\")\n",
        "plt.show()"
      ]
    },
    {
      "cell_type": "markdown",
      "metadata": {
        "id": "59veuiEZCaW4"
      },
      "source": [
        "#### Step 5: Instantiate a Neural Network Object And Configure The Layers"
      ]
    },
    {
      "cell_type": "markdown",
      "metadata": {
        "id": "Gxg1XGm0eOBy"
      },
      "source": [
        "The basic building block of a neural network is the [*layer*](https://www.tensorflow.org/api_docs/python/tf/keras/layers). Layers extract representations from the data fed into them. Hopefully, these representations are meaningful for the problem at hand.\n",
        "\n",
        "Most of deep learning consists of chaining together simple layers. Most layers, such as `tf.keras.layers.Dense`, have parameters that are learned during training."
      ]
    },
    {
      "cell_type": "code",
      "execution_count": 5,
      "metadata": {
        "id": "9ODch-OFCaW4"
      },
      "outputs": [
        {
          "name": "stderr",
          "output_type": "stream",
          "text": [
            "2025-05-20 06:12:39.942596: E external/local_xla/xla/stream_executor/cuda/cuda_platform.cc:51] failed call to cuInit: INTERNAL: CUDA error: Failed call to cuInit: UNKNOWN ERROR (303)\n"
          ]
        }
      ],
      "source": [
        "model = Sequential([\n",
        "    Input(shape=(1,)),  # Input layer with 1 feature\n",
        "    Dense(3, activation='relu'),           # Hidden layer with 3 neurons\n",
        "    Dense(1)            # Output layer with 1 neuron for regression\n",
        "])"
      ]
    },
    {
      "cell_type": "markdown",
      "metadata": {},
      "source": [
        "#### About this model\n",
        "\n",
        "The above code will instantiate a model (lines 1-5) with an input layer (line 2) that, in this case, will have 1 neuron and take in an array of features. The model then has a hidden layer with 3 neurons (line 3). The model then has an output layer with 1 neuron (line 4) that will output a regression value. In training, the input data will be passed forward and backward in training cycles to find the optimal settings (see epochs below).\n",
        "\n",
        "> [!Note]\n",
        ">\n",
        "> The output layer should have 2 neurons for binary classification or $n$ neurons for the $n$ classes in multiclass classification."
      ]
    },
    {
      "cell_type": "code",
      "execution_count": 6,
      "metadata": {
        "id": "Lhan11blCaW7"
      },
      "outputs": [],
      "source": [
        "model.compile(optimizer='adam', loss='mean_squared_error', metrics=['mae'])"
      ]
    },
    {
      "cell_type": "markdown",
      "metadata": {
        "id": "qKF6uW-BCaW-"
      },
      "source": [
        "#### Step 6: Fit The Model\n",
        "\n",
        "Fitting (Training) the neural network model requires the following steps:\n",
        "\n",
        "1. Fit the training data to the model. In this example, the training data is in the `X_train` and `y_train` arrays.\n",
        "2. The model learns to associate features and targets.\n",
        "3. You ask the model to make predictions about a test set—in this example, the `X_test`.\n",
        "4. Verify that the predictions match the targets from the `y_ array` array.\n"
      ]
    },
    {
      "cell_type": "code",
      "execution_count": 7,
      "metadata": {
        "id": "xvwvpA64CaW_"
      },
      "outputs": [
        {
          "name": "stdout",
          "output_type": "stream",
          "text": [
            "Epoch 1/150\n",
            "\u001b[1m16/16\u001b[0m \u001b[32m━━━━━━━━━━━━━━━━━━━━\u001b[0m\u001b[37m\u001b[0m \u001b[1m1s\u001b[0m 10ms/step - loss: 544.7829 - mae: 20.8554 - val_loss: 559.9028 - val_mae: 22.4351\n",
            "Epoch 2/150\n",
            "\u001b[1m16/16\u001b[0m \u001b[32m━━━━━━━━━━━━━━━━━━━━\u001b[0m\u001b[37m\u001b[0m \u001b[1m0s\u001b[0m 4ms/step - loss: 480.1806 - mae: 18.4438 - val_loss: 544.6835 - val_mae: 22.1523\n",
            "Epoch 3/150\n",
            "\u001b[1m16/16\u001b[0m \u001b[32m━━━━━━━━━━━━━━━━━━━━\u001b[0m\u001b[37m\u001b[0m \u001b[1m0s\u001b[0m 4ms/step - loss: 381.4815 - mae: 16.7083 - val_loss: 528.5883 - val_mae: 21.8555\n",
            "Epoch 4/150\n",
            "\u001b[1m16/16\u001b[0m \u001b[32m━━━━━━━━━━━━━━━━━━━━\u001b[0m\u001b[37m\u001b[0m \u001b[1m0s\u001b[0m 3ms/step - loss: 251.0881 - mae: 12.5696 - val_loss: 511.6461 - val_mae: 21.5402\n",
            "Epoch 5/150\n",
            "\u001b[1m16/16\u001b[0m \u001b[32m━━━━━━━━━━━━━━━━━━━━\u001b[0m\u001b[37m\u001b[0m \u001b[1m0s\u001b[0m 4ms/step - loss: 547.7906 - mae: 20.8438 - val_loss: 495.6346 - val_mae: 21.2242\n",
            "Epoch 6/150\n",
            "\u001b[1m16/16\u001b[0m \u001b[32m━━━━━━━━━━━━━━━━━━━━\u001b[0m\u001b[37m\u001b[0m \u001b[1m0s\u001b[0m 3ms/step - loss: 504.3425 - mae: 19.8792 - val_loss: 481.1349 - val_mae: 20.9380\n",
            "Epoch 7/150\n",
            "\u001b[1m16/16\u001b[0m \u001b[32m━━━━━━━━━━━━━━━━━━━━\u001b[0m\u001b[37m\u001b[0m \u001b[1m0s\u001b[0m 4ms/step - loss: 404.5605 - mae: 17.3544 - val_loss: 468.6322 - val_mae: 20.6857\n",
            "Epoch 8/150\n",
            "\u001b[1m16/16\u001b[0m \u001b[32m━━━━━━━━━━━━━━━━━━━━\u001b[0m\u001b[37m\u001b[0m \u001b[1m0s\u001b[0m 4ms/step - loss: 465.4435 - mae: 19.1715 - val_loss: 452.6268 - val_mae: 20.3641\n",
            "Epoch 9/150\n",
            "\u001b[1m16/16\u001b[0m \u001b[32m━━━━━━━━━━━━━━━━━━━━\u001b[0m\u001b[37m\u001b[0m \u001b[1m0s\u001b[0m 4ms/step - loss: 561.3333 - mae: 21.2602 - val_loss: 439.2643 - val_mae: 20.0855\n",
            "Epoch 10/150\n",
            "\u001b[1m16/16\u001b[0m \u001b[32m━━━━━━━━━━━━━━━━━━━━\u001b[0m\u001b[37m\u001b[0m \u001b[1m0s\u001b[0m 4ms/step - loss: 411.3783 - mae: 16.2960 - val_loss: 428.2735 - val_mae: 19.8497\n",
            "Epoch 11/150\n",
            "\u001b[1m16/16\u001b[0m \u001b[32m━━━━━━━━━━━━━━━━━━━━\u001b[0m\u001b[37m\u001b[0m \u001b[1m0s\u001b[0m 3ms/step - loss: 368.9341 - mae: 16.2777 - val_loss: 414.4880 - val_mae: 19.5539\n",
            "Epoch 12/150\n",
            "\u001b[1m16/16\u001b[0m \u001b[32m━━━━━━━━━━━━━━━━━━━━\u001b[0m\u001b[37m\u001b[0m \u001b[1m0s\u001b[0m 4ms/step - loss: 337.4409 - mae: 15.6310 - val_loss: 402.0968 - val_mae: 19.2837\n",
            "Epoch 13/150\n",
            "\u001b[1m16/16\u001b[0m \u001b[32m━━━━━━━━━━━━━━━━━━━━\u001b[0m\u001b[37m\u001b[0m \u001b[1m0s\u001b[0m 4ms/step - loss: 303.2394 - mae: 13.7251 - val_loss: 389.9139 - val_mae: 19.0104\n",
            "Epoch 14/150\n",
            "\u001b[1m16/16\u001b[0m \u001b[32m━━━━━━━━━━━━━━━━━━━━\u001b[0m\u001b[37m\u001b[0m \u001b[1m0s\u001b[0m 4ms/step - loss: 424.0998 - mae: 17.9099 - val_loss: 379.3733 - val_mae: 18.7668\n",
            "Epoch 15/150\n",
            "\u001b[1m16/16\u001b[0m \u001b[32m━━━━━━━━━━━━━━━━━━━━\u001b[0m\u001b[37m\u001b[0m \u001b[1m0s\u001b[0m 4ms/step - loss: 247.7176 - mae: 13.0408 - val_loss: 370.5810 - val_mae: 18.5590\n",
            "Epoch 16/150\n",
            "\u001b[1m16/16\u001b[0m \u001b[32m━━━━━━━━━━━━━━━━━━━━\u001b[0m\u001b[37m\u001b[0m \u001b[1m0s\u001b[0m 4ms/step - loss: 366.2332 - mae: 15.3175 - val_loss: 358.7086 - val_mae: 18.2776\n",
            "Epoch 17/150\n",
            "\u001b[1m16/16\u001b[0m \u001b[32m━━━━━━━━━━━━━━━━━━━━\u001b[0m\u001b[37m\u001b[0m \u001b[1m0s\u001b[0m 4ms/step - loss: 303.5309 - mae: 15.5890 - val_loss: 347.5938 - val_mae: 18.0092\n",
            "Epoch 18/150\n",
            "\u001b[1m16/16\u001b[0m \u001b[32m━━━━━━━━━━━━━━━━━━━━\u001b[0m\u001b[37m\u001b[0m \u001b[1m0s\u001b[0m 4ms/step - loss: 308.5363 - mae: 15.1580 - val_loss: 337.4789 - val_mae: 17.7587\n",
            "Epoch 19/150\n",
            "\u001b[1m16/16\u001b[0m \u001b[32m━━━━━━━━━━━━━━━━━━━━\u001b[0m\u001b[37m\u001b[0m \u001b[1m0s\u001b[0m 4ms/step - loss: 358.9862 - mae: 15.5109 - val_loss: 330.0284 - val_mae: 17.5666\n",
            "Epoch 20/150\n",
            "\u001b[1m16/16\u001b[0m \u001b[32m━━━━━━━━━━━━━━━━━━━━\u001b[0m\u001b[37m\u001b[0m \u001b[1m0s\u001b[0m 4ms/step - loss: 273.2892 - mae: 13.6937 - val_loss: 319.7254 - val_mae: 17.3013\n",
            "Epoch 21/150\n",
            "\u001b[1m16/16\u001b[0m \u001b[32m━━━━━━━━━━━━━━━━━━━━\u001b[0m\u001b[37m\u001b[0m \u001b[1m0s\u001b[0m 4ms/step - loss: 239.7157 - mae: 13.4676 - val_loss: 311.7449 - val_mae: 17.0902\n",
            "Epoch 22/150\n",
            "\u001b[1m16/16\u001b[0m \u001b[32m━━━━━━━━━━━━━━━━━━━━\u001b[0m\u001b[37m\u001b[0m \u001b[1m0s\u001b[0m 4ms/step - loss: 195.7831 - mae: 10.6133 - val_loss: 302.9034 - val_mae: 16.8511\n",
            "Epoch 23/150\n",
            "\u001b[1m16/16\u001b[0m \u001b[32m━━━━━━━━━━━━━━━━━━━━\u001b[0m\u001b[37m\u001b[0m \u001b[1m0s\u001b[0m 3ms/step - loss: 448.0358 - mae: 18.8131 - val_loss: 294.0320 - val_mae: 16.6051\n",
            "Epoch 24/150\n",
            "\u001b[1m16/16\u001b[0m \u001b[32m━━━━━━━━━━━━━━━━━━━━\u001b[0m\u001b[37m\u001b[0m \u001b[1m0s\u001b[0m 4ms/step - loss: 227.5776 - mae: 11.9294 - val_loss: 286.9121 - val_mae: 16.4034\n",
            "Epoch 25/150\n",
            "\u001b[1m16/16\u001b[0m \u001b[32m━━━━━━━━━━━━━━━━━━━━\u001b[0m\u001b[37m\u001b[0m \u001b[1m0s\u001b[0m 3ms/step - loss: 213.8690 - mae: 12.6931 - val_loss: 279.1004 - val_mae: 16.1769\n",
            "Epoch 26/150\n",
            "\u001b[1m16/16\u001b[0m \u001b[32m━━━━━━━━━━━━━━━━━━━━\u001b[0m\u001b[37m\u001b[0m \u001b[1m0s\u001b[0m 4ms/step - loss: 181.3547 - mae: 10.8464 - val_loss: 272.8266 - val_mae: 15.9913\n",
            "Epoch 27/150\n",
            "\u001b[1m16/16\u001b[0m \u001b[32m━━━━━━━━━━━━━━━━━━━━\u001b[0m\u001b[37m\u001b[0m \u001b[1m0s\u001b[0m 4ms/step - loss: 259.2236 - mae: 12.7312 - val_loss: 265.7459 - val_mae: 15.7771\n",
            "Epoch 28/150\n",
            "\u001b[1m16/16\u001b[0m \u001b[32m━━━━━━━━━━━━━━━━━━━━\u001b[0m\u001b[37m\u001b[0m \u001b[1m0s\u001b[0m 4ms/step - loss: 266.3951 - mae: 12.9175 - val_loss: 259.3222 - val_mae: 15.5782\n",
            "Epoch 29/150\n",
            "\u001b[1m16/16\u001b[0m \u001b[32m━━━━━━━━━━━━━━━━━━━━\u001b[0m\u001b[37m\u001b[0m \u001b[1m0s\u001b[0m 3ms/step - loss: 149.6398 - mae: 9.2026 - val_loss: 252.3170 - val_mae: 15.3543\n",
            "Epoch 30/150\n",
            "\u001b[1m16/16\u001b[0m \u001b[32m━━━━━━━━━━━━━━━━━━━━\u001b[0m\u001b[37m\u001b[0m \u001b[1m0s\u001b[0m 4ms/step - loss: 161.0490 - mae: 10.5870 - val_loss: 246.1925 - val_mae: 15.1549\n",
            "Epoch 31/150\n",
            "\u001b[1m16/16\u001b[0m \u001b[32m━━━━━━━━━━━━━━━━━━━━\u001b[0m\u001b[37m\u001b[0m \u001b[1m0s\u001b[0m 4ms/step - loss: 245.5336 - mae: 13.3031 - val_loss: 240.0009 - val_mae: 14.9483\n",
            "Epoch 32/150\n",
            "\u001b[1m16/16\u001b[0m \u001b[32m━━━━━━━━━━━━━━━━━━━━\u001b[0m\u001b[37m\u001b[0m \u001b[1m0s\u001b[0m 3ms/step - loss: 297.2376 - mae: 14.7089 - val_loss: 234.8150 - val_mae: 14.7730\n",
            "Epoch 33/150\n",
            "\u001b[1m16/16\u001b[0m \u001b[32m━━━━━━━━━━━━━━━━━━━━\u001b[0m\u001b[37m\u001b[0m \u001b[1m0s\u001b[0m 3ms/step - loss: 221.4923 - mae: 12.5078 - val_loss: 230.0332 - val_mae: 14.6062\n",
            "Epoch 34/150\n",
            "\u001b[1m16/16\u001b[0m \u001b[32m━━━━━━━━━━━━━━━━━━━━\u001b[0m\u001b[37m\u001b[0m \u001b[1m0s\u001b[0m 4ms/step - loss: 217.8840 - mae: 11.8638 - val_loss: 224.6060 - val_mae: 14.4092\n",
            "Epoch 35/150\n",
            "\u001b[1m16/16\u001b[0m \u001b[32m━━━━━━━━━━━━━━━━━━━━\u001b[0m\u001b[37m\u001b[0m \u001b[1m0s\u001b[0m 4ms/step - loss: 198.2546 - mae: 11.9060 - val_loss: 219.5708 - val_mae: 14.2246\n",
            "Epoch 36/150\n",
            "\u001b[1m16/16\u001b[0m \u001b[32m━━━━━━━━━━━━━━━━━━━━\u001b[0m\u001b[37m\u001b[0m \u001b[1m0s\u001b[0m 4ms/step - loss: 277.9206 - mae: 12.7783 - val_loss: 215.1506 - val_mae: 14.0602\n",
            "Epoch 37/150\n",
            "\u001b[1m16/16\u001b[0m \u001b[32m━━━━━━━━━━━━━━━━━━━━\u001b[0m\u001b[37m\u001b[0m \u001b[1m0s\u001b[0m 4ms/step - loss: 176.3494 - mae: 11.4725 - val_loss: 209.9411 - val_mae: 13.8539\n",
            "Epoch 38/150\n",
            "\u001b[1m16/16\u001b[0m \u001b[32m━━━━━━━━━━━━━━━━━━━━\u001b[0m\u001b[37m\u001b[0m \u001b[1m0s\u001b[0m 4ms/step - loss: 181.8849 - mae: 10.6894 - val_loss: 205.7094 - val_mae: 13.6841\n",
            "Epoch 39/150\n",
            "\u001b[1m16/16\u001b[0m \u001b[32m━━━━━━━━━━━━━━━━━━━━\u001b[0m\u001b[37m\u001b[0m \u001b[1m0s\u001b[0m 4ms/step - loss: 192.7020 - mae: 11.4630 - val_loss: 201.9858 - val_mae: 13.5336\n",
            "Epoch 40/150\n",
            "\u001b[1m16/16\u001b[0m \u001b[32m━━━━━━━━━━━━━━━━━━━━\u001b[0m\u001b[37m\u001b[0m \u001b[1m0s\u001b[0m 4ms/step - loss: 199.1661 - mae: 10.6609 - val_loss: 198.4143 - val_mae: 13.3851\n",
            "Epoch 41/150\n",
            "\u001b[1m16/16\u001b[0m \u001b[32m━━━━━━━━━━━━━━━━━━━━\u001b[0m\u001b[37m\u001b[0m \u001b[1m0s\u001b[0m 4ms/step - loss: 172.8564 - mae: 9.9972 - val_loss: 194.7882 - val_mae: 13.2313\n",
            "Epoch 42/150\n",
            "\u001b[1m16/16\u001b[0m \u001b[32m━━━━━━━━━━━━━━━━━━━━\u001b[0m\u001b[37m\u001b[0m \u001b[1m0s\u001b[0m 4ms/step - loss: 257.8684 - mae: 12.6811 - val_loss: 190.9754 - val_mae: 13.0623\n",
            "Epoch 43/150\n",
            "\u001b[1m16/16\u001b[0m \u001b[32m━━━━━━━━━━━━━━━━━━━━\u001b[0m\u001b[37m\u001b[0m \u001b[1m0s\u001b[0m 4ms/step - loss: 227.4656 - mae: 10.7969 - val_loss: 187.6412 - val_mae: 12.9078\n",
            "Epoch 44/150\n",
            "\u001b[1m16/16\u001b[0m \u001b[32m━━━━━━━━━━━━━━━━━━━━\u001b[0m\u001b[37m\u001b[0m \u001b[1m0s\u001b[0m 4ms/step - loss: 293.6508 - mae: 14.3488 - val_loss: 184.5093 - val_mae: 12.7672\n",
            "Epoch 45/150\n",
            "\u001b[1m16/16\u001b[0m \u001b[32m━━━━━━━━━━━━━━━━━━━━\u001b[0m\u001b[37m\u001b[0m \u001b[1m0s\u001b[0m 4ms/step - loss: 81.6544 - mae: 6.5683 - val_loss: 181.5270 - val_mae: 12.6170\n",
            "Epoch 46/150\n",
            "\u001b[1m16/16\u001b[0m \u001b[32m━━━━━━━━━━━━━━━━━━━━\u001b[0m\u001b[37m\u001b[0m \u001b[1m0s\u001b[0m 4ms/step - loss: 208.6989 - mae: 11.3703 - val_loss: 178.5647 - val_mae: 12.4763\n",
            "Epoch 47/150\n",
            "\u001b[1m16/16\u001b[0m \u001b[32m━━━━━━━━━━━━━━━━━━━━\u001b[0m\u001b[37m\u001b[0m \u001b[1m0s\u001b[0m 3ms/step - loss: 172.2256 - mae: 10.5502 - val_loss: 175.6012 - val_mae: 12.3242\n",
            "Epoch 48/150\n",
            "\u001b[1m16/16\u001b[0m \u001b[32m━━━━━━━━━━━━━━━━━━━━\u001b[0m\u001b[37m\u001b[0m \u001b[1m0s\u001b[0m 4ms/step - loss: 154.3100 - mae: 9.5697 - val_loss: 173.2558 - val_mae: 12.2027\n",
            "Epoch 49/150\n",
            "\u001b[1m16/16\u001b[0m \u001b[32m━━━━━━━━━━━━━━━━━━━━\u001b[0m\u001b[37m\u001b[0m \u001b[1m0s\u001b[0m 4ms/step - loss: 147.7382 - mae: 8.8303 - val_loss: 170.8172 - val_mae: 12.0728\n",
            "Epoch 50/150\n",
            "\u001b[1m16/16\u001b[0m \u001b[32m━━━━━━━━━━━━━━━━━━━━\u001b[0m\u001b[37m\u001b[0m \u001b[1m0s\u001b[0m 4ms/step - loss: 220.0756 - mae: 11.6042 - val_loss: 168.3934 - val_mae: 11.9398\n",
            "Epoch 51/150\n",
            "\u001b[1m16/16\u001b[0m \u001b[32m━━━━━━━━━━━━━━━━━━━━\u001b[0m\u001b[37m\u001b[0m \u001b[1m0s\u001b[0m 4ms/step - loss: 110.5721 - mae: 7.2351 - val_loss: 166.2180 - val_mae: 11.8163\n",
            "Epoch 52/150\n",
            "\u001b[1m16/16\u001b[0m \u001b[32m━━━━━━━━━━━━━━━━━━━━\u001b[0m\u001b[37m\u001b[0m \u001b[1m0s\u001b[0m 3ms/step - loss: 151.3628 - mae: 8.3731 - val_loss: 164.2692 - val_mae: 11.7081\n",
            "Epoch 53/150\n",
            "\u001b[1m16/16\u001b[0m \u001b[32m━━━━━━━━━━━━━━━━━━━━\u001b[0m\u001b[37m\u001b[0m \u001b[1m0s\u001b[0m 3ms/step - loss: 215.1921 - mae: 11.5783 - val_loss: 162.1982 - val_mae: 11.5870\n",
            "Epoch 54/150\n",
            "\u001b[1m16/16\u001b[0m \u001b[32m━━━━━━━━━━━━━━━━━━━━\u001b[0m\u001b[37m\u001b[0m \u001b[1m0s\u001b[0m 4ms/step - loss: 237.3235 - mae: 11.5122 - val_loss: 160.3027 - val_mae: 11.4752\n",
            "Epoch 55/150\n",
            "\u001b[1m16/16\u001b[0m \u001b[32m━━━━━━━━━━━━━━━━━━━━\u001b[0m\u001b[37m\u001b[0m \u001b[1m0s\u001b[0m 3ms/step - loss: 190.2245 - mae: 10.5050 - val_loss: 158.4552 - val_mae: 11.3549\n",
            "Epoch 56/150\n",
            "\u001b[1m16/16\u001b[0m \u001b[32m━━━━━━━━━━━━━━━━━━━━\u001b[0m\u001b[37m\u001b[0m \u001b[1m0s\u001b[0m 4ms/step - loss: 226.9848 - mae: 11.9282 - val_loss: 156.8329 - val_mae: 11.2518\n",
            "Epoch 57/150\n",
            "\u001b[1m16/16\u001b[0m \u001b[32m━━━━━━━━━━━━━━━━━━━━\u001b[0m\u001b[37m\u001b[0m \u001b[1m0s\u001b[0m 4ms/step - loss: 224.4088 - mae: 10.5363 - val_loss: 155.2127 - val_mae: 11.1426\n",
            "Epoch 58/150\n",
            "\u001b[1m16/16\u001b[0m \u001b[32m━━━━━━━━━━━━━━━━━━━━\u001b[0m\u001b[37m\u001b[0m \u001b[1m0s\u001b[0m 4ms/step - loss: 303.9050 - mae: 13.6395 - val_loss: 153.7006 - val_mae: 11.0463\n",
            "Epoch 59/150\n",
            "\u001b[1m16/16\u001b[0m \u001b[32m━━━━━━━━━━━━━━━━━━━━\u001b[0m\u001b[37m\u001b[0m \u001b[1m0s\u001b[0m 4ms/step - loss: 286.9665 - mae: 13.4441 - val_loss: 152.2185 - val_mae: 10.9429\n",
            "Epoch 60/150\n",
            "\u001b[1m16/16\u001b[0m \u001b[32m━━━━━━━━━━━━━━━━━━━━\u001b[0m\u001b[37m\u001b[0m \u001b[1m0s\u001b[0m 4ms/step - loss: 302.8231 - mae: 13.0568 - val_loss: 150.9346 - val_mae: 10.8526\n",
            "Epoch 61/150\n",
            "\u001b[1m16/16\u001b[0m \u001b[32m━━━━━━━━━━━━━━━━━━━━\u001b[0m\u001b[37m\u001b[0m \u001b[1m0s\u001b[0m 4ms/step - loss: 140.9270 - mae: 9.2251 - val_loss: 149.6968 - val_mae: 10.7579\n",
            "Epoch 62/150\n",
            "\u001b[1m16/16\u001b[0m \u001b[32m━━━━━━━━━━━━━━━━━━━━\u001b[0m\u001b[37m\u001b[0m \u001b[1m0s\u001b[0m 3ms/step - loss: 175.9928 - mae: 9.1818 - val_loss: 148.4166 - val_mae: 10.6640\n",
            "Epoch 63/150\n",
            "\u001b[1m16/16\u001b[0m \u001b[32m━━━━━━━━━━━━━━━━━━━━\u001b[0m\u001b[37m\u001b[0m \u001b[1m0s\u001b[0m 4ms/step - loss: 131.1788 - mae: 7.8476 - val_loss: 147.4342 - val_mae: 10.5936\n",
            "Epoch 64/150\n",
            "\u001b[1m16/16\u001b[0m \u001b[32m━━━━━━━━━━━━━━━━━━━━\u001b[0m\u001b[37m\u001b[0m \u001b[1m0s\u001b[0m 4ms/step - loss: 100.0412 - mae: 6.8964 - val_loss: 146.3606 - val_mae: 10.5046\n",
            "Epoch 65/150\n",
            "\u001b[1m16/16\u001b[0m \u001b[32m━━━━━━━━━━━━━━━━━━━━\u001b[0m\u001b[37m\u001b[0m \u001b[1m0s\u001b[0m 4ms/step - loss: 155.3214 - mae: 8.5383 - val_loss: 145.2809 - val_mae: 10.4183\n",
            "Epoch 66/150\n",
            "\u001b[1m16/16\u001b[0m \u001b[32m━━━━━━━━━━━━━━━━━━━━\u001b[0m\u001b[37m\u001b[0m \u001b[1m0s\u001b[0m 3ms/step - loss: 153.8272 - mae: 8.1383 - val_loss: 144.3318 - val_mae: 10.3510\n",
            "Epoch 67/150\n",
            "\u001b[1m16/16\u001b[0m \u001b[32m━━━━━━━━━━━━━━━━━━━━\u001b[0m\u001b[37m\u001b[0m \u001b[1m0s\u001b[0m 4ms/step - loss: 188.8917 - mae: 9.6118 - val_loss: 143.3501 - val_mae: 10.2680\n",
            "Epoch 68/150\n",
            "\u001b[1m16/16\u001b[0m \u001b[32m━━━━━━━━━━━━━━━━━━━━\u001b[0m\u001b[37m\u001b[0m \u001b[1m0s\u001b[0m 4ms/step - loss: 103.8584 - mae: 6.4619 - val_loss: 142.5615 - val_mae: 10.1976\n",
            "Epoch 69/150\n",
            "\u001b[1m16/16\u001b[0m \u001b[32m━━━━━━━━━━━━━━━━━━━━\u001b[0m\u001b[37m\u001b[0m \u001b[1m0s\u001b[0m 4ms/step - loss: 148.4810 - mae: 7.5208 - val_loss: 141.7122 - val_mae: 10.1278\n",
            "Epoch 70/150\n",
            "\u001b[1m16/16\u001b[0m \u001b[32m━━━━━━━━━━━━━━━━━━━━\u001b[0m\u001b[37m\u001b[0m \u001b[1m0s\u001b[0m 3ms/step - loss: 146.3060 - mae: 7.8317 - val_loss: 140.9410 - val_mae: 10.0606\n",
            "Epoch 71/150\n",
            "\u001b[1m16/16\u001b[0m \u001b[32m━━━━━━━━━━━━━━━━━━━━\u001b[0m\u001b[37m\u001b[0m \u001b[1m0s\u001b[0m 4ms/step - loss: 126.5831 - mae: 7.0675 - val_loss: 140.2566 - val_mae: 10.0019\n",
            "Epoch 72/150\n",
            "\u001b[1m16/16\u001b[0m \u001b[32m━━━━━━━━━━━━━━━━━━━━\u001b[0m\u001b[37m\u001b[0m \u001b[1m0s\u001b[0m 4ms/step - loss: 110.0795 - mae: 7.1340 - val_loss: 139.5780 - val_mae: 9.9432\n",
            "Epoch 73/150\n",
            "\u001b[1m16/16\u001b[0m \u001b[32m━━━━━━━━━━━━━━━━━━━━\u001b[0m\u001b[37m\u001b[0m \u001b[1m0s\u001b[0m 4ms/step - loss: 265.3200 - mae: 12.5719 - val_loss: 138.8289 - val_mae: 9.8792\n",
            "Epoch 74/150\n",
            "\u001b[1m16/16\u001b[0m \u001b[32m━━━━━━━━━━━━━━━━━━━━\u001b[0m\u001b[37m\u001b[0m \u001b[1m0s\u001b[0m 4ms/step - loss: 146.4596 - mae: 8.6287 - val_loss: 138.2182 - val_mae: 9.8211\n",
            "Epoch 75/150\n",
            "\u001b[1m16/16\u001b[0m \u001b[32m━━━━━━━━━━━━━━━━━━━━\u001b[0m\u001b[37m\u001b[0m \u001b[1m0s\u001b[0m 4ms/step - loss: 79.4873 - mae: 4.9538 - val_loss: 137.6314 - val_mae: 9.7598\n",
            "Epoch 76/150\n",
            "\u001b[1m16/16\u001b[0m \u001b[32m━━━━━━━━━━━━━━━━━━━━\u001b[0m\u001b[37m\u001b[0m \u001b[1m0s\u001b[0m 4ms/step - loss: 256.6068 - mae: 11.2650 - val_loss: 137.0025 - val_mae: 9.7068\n",
            "Epoch 77/150\n",
            "\u001b[1m16/16\u001b[0m \u001b[32m━━━━━━━━━━━━━━━━━━━━\u001b[0m\u001b[37m\u001b[0m \u001b[1m0s\u001b[0m 4ms/step - loss: 127.6776 - mae: 7.0142 - val_loss: 136.4652 - val_mae: 9.6553\n",
            "Epoch 78/150\n",
            "\u001b[1m16/16\u001b[0m \u001b[32m━━━━━━━━━━━━━━━━━━━━\u001b[0m\u001b[37m\u001b[0m \u001b[1m0s\u001b[0m 4ms/step - loss: 77.9926 - mae: 4.6478 - val_loss: 136.0034 - val_mae: 9.6096\n",
            "Epoch 79/150\n",
            "\u001b[1m16/16\u001b[0m \u001b[32m━━━━━━━━━━━━━━━━━━━━\u001b[0m\u001b[37m\u001b[0m \u001b[1m0s\u001b[0m 4ms/step - loss: 140.8827 - mae: 8.1608 - val_loss: 135.4761 - val_mae: 9.5650\n",
            "Epoch 80/150\n",
            "\u001b[1m16/16\u001b[0m \u001b[32m━━━━━━━━━━━━━━━━━━━━\u001b[0m\u001b[37m\u001b[0m \u001b[1m0s\u001b[0m 4ms/step - loss: 158.0294 - mae: 8.1373 - val_loss: 134.9977 - val_mae: 9.5177\n",
            "Epoch 81/150\n",
            "\u001b[1m16/16\u001b[0m \u001b[32m━━━━━━━━━━━━━━━━━━━━\u001b[0m\u001b[37m\u001b[0m \u001b[1m0s\u001b[0m 3ms/step - loss: 200.4055 - mae: 9.9647 - val_loss: 134.5557 - val_mae: 9.4838\n",
            "Epoch 82/150\n",
            "\u001b[1m16/16\u001b[0m \u001b[32m━━━━━━━━━━━━━━━━━━━━\u001b[0m\u001b[37m\u001b[0m \u001b[1m0s\u001b[0m 4ms/step - loss: 124.5114 - mae: 6.7521 - val_loss: 134.1295 - val_mae: 9.4356\n",
            "Epoch 83/150\n",
            "\u001b[1m16/16\u001b[0m \u001b[32m━━━━━━━━━━━━━━━━━━━━\u001b[0m\u001b[37m\u001b[0m \u001b[1m0s\u001b[0m 4ms/step - loss: 208.6813 - mae: 10.2521 - val_loss: 133.6852 - val_mae: 9.4040\n",
            "Epoch 84/150\n",
            "\u001b[1m16/16\u001b[0m \u001b[32m━━━━━━━━━━━━━━━━━━━━\u001b[0m\u001b[37m\u001b[0m \u001b[1m0s\u001b[0m 4ms/step - loss: 157.5873 - mae: 8.5284 - val_loss: 133.3031 - val_mae: 9.3731\n",
            "Epoch 85/150\n",
            "\u001b[1m16/16\u001b[0m \u001b[32m━━━━━━━━━━━━━━━━━━━━\u001b[0m\u001b[37m\u001b[0m \u001b[1m0s\u001b[0m 3ms/step - loss: 161.6370 - mae: 9.3604 - val_loss: 132.9200 - val_mae: 9.3282\n",
            "Epoch 86/150\n",
            "\u001b[1m16/16\u001b[0m \u001b[32m━━━━━━━━━━━━━━━━━━━━\u001b[0m\u001b[37m\u001b[0m \u001b[1m0s\u001b[0m 4ms/step - loss: 164.2849 - mae: 8.2880 - val_loss: 132.5636 - val_mae: 9.2954\n",
            "Epoch 87/150\n",
            "\u001b[1m16/16\u001b[0m \u001b[32m━━━━━━━━━━━━━━━━━━━━\u001b[0m\u001b[37m\u001b[0m \u001b[1m0s\u001b[0m 4ms/step - loss: 257.4114 - mae: 12.0668 - val_loss: 132.1722 - val_mae: 9.2635\n",
            "Epoch 88/150\n",
            "\u001b[1m16/16\u001b[0m \u001b[32m━━━━━━━━━━━━━━━━━━━━\u001b[0m\u001b[37m\u001b[0m \u001b[1m0s\u001b[0m 4ms/step - loss: 72.8450 - mae: 4.2155 - val_loss: 131.8796 - val_mae: 9.2283\n",
            "Epoch 89/150\n",
            "\u001b[1m16/16\u001b[0m \u001b[32m━━━━━━━━━━━━━━━━━━━━\u001b[0m\u001b[37m\u001b[0m \u001b[1m0s\u001b[0m 4ms/step - loss: 139.7299 - mae: 7.5133 - val_loss: 131.5143 - val_mae: 9.1966\n",
            "Epoch 90/150\n",
            "\u001b[1m16/16\u001b[0m \u001b[32m━━━━━━━━━━━━━━━━━━━━\u001b[0m\u001b[37m\u001b[0m \u001b[1m0s\u001b[0m 4ms/step - loss: 120.1120 - mae: 7.3576 - val_loss: 131.2069 - val_mae: 9.1718\n",
            "Epoch 91/150\n",
            "\u001b[1m16/16\u001b[0m \u001b[32m━━━━━━━━━━━━━━━━━━━━\u001b[0m\u001b[37m\u001b[0m \u001b[1m0s\u001b[0m 3ms/step - loss: 97.4038 - mae: 5.8814 - val_loss: 130.8936 - val_mae: 9.1382\n",
            "Epoch 92/150\n",
            "\u001b[1m16/16\u001b[0m \u001b[32m━━━━━━━━━━━━━━━━━━━━\u001b[0m\u001b[37m\u001b[0m \u001b[1m0s\u001b[0m 4ms/step - loss: 219.9953 - mae: 10.8437 - val_loss: 130.5777 - val_mae: 9.1131\n",
            "Epoch 93/150\n",
            "\u001b[1m16/16\u001b[0m \u001b[32m━━━━━━━━━━━━━━━━━━━━\u001b[0m\u001b[37m\u001b[0m \u001b[1m0s\u001b[0m 4ms/step - loss: 78.5789 - mae: 5.4853 - val_loss: 130.3402 - val_mae: 9.0904\n",
            "Epoch 94/150\n",
            "\u001b[1m16/16\u001b[0m \u001b[32m━━━━━━━━━━━━━━━━━━━━\u001b[0m\u001b[37m\u001b[0m \u001b[1m0s\u001b[0m 4ms/step - loss: 258.5207 - mae: 11.5853 - val_loss: 130.0037 - val_mae: 9.0623\n",
            "Epoch 95/150\n",
            "\u001b[1m16/16\u001b[0m \u001b[32m━━━━━━━━━━━━━━━━━━━━\u001b[0m\u001b[37m\u001b[0m \u001b[1m0s\u001b[0m 4ms/step - loss: 164.8941 - mae: 8.7990 - val_loss: 129.7226 - val_mae: 9.0411\n",
            "Epoch 96/150\n",
            "\u001b[1m16/16\u001b[0m \u001b[32m━━━━━━━━━━━━━━━━━━━━\u001b[0m\u001b[37m\u001b[0m \u001b[1m0s\u001b[0m 3ms/step - loss: 272.1373 - mae: 12.2454 - val_loss: 129.4415 - val_mae: 9.0175\n",
            "Epoch 97/150\n",
            "\u001b[1m16/16\u001b[0m \u001b[32m━━━━━━━━━━━━━━━━━━━━\u001b[0m\u001b[37m\u001b[0m \u001b[1m0s\u001b[0m 3ms/step - loss: 213.5887 - mae: 11.0752 - val_loss: 129.1866 - val_mae: 9.0046\n",
            "Epoch 98/150\n",
            "\u001b[1m16/16\u001b[0m \u001b[32m━━━━━━━━━━━━━━━━━━━━\u001b[0m\u001b[37m\u001b[0m \u001b[1m0s\u001b[0m 4ms/step - loss: 87.9373 - mae: 5.0467 - val_loss: 128.9715 - val_mae: 8.9929\n",
            "Epoch 99/150\n",
            "\u001b[1m16/16\u001b[0m \u001b[32m━━━━━━━━━━━━━━━━━━━━\u001b[0m\u001b[37m\u001b[0m \u001b[1m0s\u001b[0m 4ms/step - loss: 168.6618 - mae: 8.3141 - val_loss: 128.6963 - val_mae: 8.9786\n",
            "Epoch 100/150\n",
            "\u001b[1m16/16\u001b[0m \u001b[32m━━━━━━━━━━━━━━━━━━━━\u001b[0m\u001b[37m\u001b[0m \u001b[1m0s\u001b[0m 4ms/step - loss: 287.8310 - mae: 13.1916 - val_loss: 128.4226 - val_mae: 8.9636\n",
            "Epoch 101/150\n",
            "\u001b[1m16/16\u001b[0m \u001b[32m━━━━━━━━━━━━━━━━━━━━\u001b[0m\u001b[37m\u001b[0m \u001b[1m0s\u001b[0m 4ms/step - loss: 188.8673 - mae: 8.9920 - val_loss: 128.2199 - val_mae: 8.9527\n",
            "Epoch 102/150\n",
            "\u001b[1m16/16\u001b[0m \u001b[32m━━━━━━━━━━━━━━━━━━━━\u001b[0m\u001b[37m\u001b[0m \u001b[1m0s\u001b[0m 4ms/step - loss: 137.7318 - mae: 6.8036 - val_loss: 127.9974 - val_mae: 8.9412\n",
            "Epoch 103/150\n",
            "\u001b[1m16/16\u001b[0m \u001b[32m━━━━━━━━━━━━━━━━━━━━\u001b[0m\u001b[37m\u001b[0m \u001b[1m0s\u001b[0m 3ms/step - loss: 127.4866 - mae: 7.2894 - val_loss: 127.7700 - val_mae: 8.9292\n",
            "Epoch 104/150\n",
            "\u001b[1m16/16\u001b[0m \u001b[32m━━━━━━━━━━━━━━━━━━━━\u001b[0m\u001b[37m\u001b[0m \u001b[1m0s\u001b[0m 4ms/step - loss: 189.1240 - mae: 8.6135 - val_loss: 127.5482 - val_mae: 8.9186\n",
            "Epoch 105/150\n",
            "\u001b[1m16/16\u001b[0m \u001b[32m━━━━━━━━━━━━━━━━━━━━\u001b[0m\u001b[37m\u001b[0m \u001b[1m0s\u001b[0m 3ms/step - loss: 228.2664 - mae: 11.4799 - val_loss: 127.2977 - val_mae: 8.9059\n",
            "Epoch 106/150\n",
            "\u001b[1m16/16\u001b[0m \u001b[32m━━━━━━━━━━━━━━━━━━━━\u001b[0m\u001b[37m\u001b[0m \u001b[1m0s\u001b[0m 3ms/step - loss: 290.4089 - mae: 12.6656 - val_loss: 127.0820 - val_mae: 8.8939\n",
            "Epoch 107/150\n",
            "\u001b[1m16/16\u001b[0m \u001b[32m━━━━━━━━━━━━━━━━━━━━\u001b[0m\u001b[37m\u001b[0m \u001b[1m0s\u001b[0m 3ms/step - loss: 87.8150 - mae: 5.0936 - val_loss: 126.9101 - val_mae: 8.8847\n",
            "Epoch 108/150\n",
            "\u001b[1m16/16\u001b[0m \u001b[32m━━━━━━━━━━━━━━━━━━━━\u001b[0m\u001b[37m\u001b[0m \u001b[1m0s\u001b[0m 4ms/step - loss: 192.3905 - mae: 9.6012 - val_loss: 126.6817 - val_mae: 8.8729\n",
            "Epoch 109/150\n",
            "\u001b[1m16/16\u001b[0m \u001b[32m━━━━━━━━━━━━━━━━━━━━\u001b[0m\u001b[37m\u001b[0m \u001b[1m0s\u001b[0m 3ms/step - loss: 216.7832 - mae: 10.7606 - val_loss: 126.4574 - val_mae: 8.8632\n",
            "Epoch 110/150\n",
            "\u001b[1m16/16\u001b[0m \u001b[32m━━━━━━━━━━━━━━━━━━━━\u001b[0m\u001b[37m\u001b[0m \u001b[1m0s\u001b[0m 3ms/step - loss: 171.4278 - mae: 7.8370 - val_loss: 126.2748 - val_mae: 8.8532\n",
            "Epoch 111/150\n",
            "\u001b[1m16/16\u001b[0m \u001b[32m━━━━━━━━━━━━━━━━━━━━\u001b[0m\u001b[37m\u001b[0m \u001b[1m0s\u001b[0m 4ms/step - loss: 160.8752 - mae: 8.7752 - val_loss: 126.0689 - val_mae: 8.8437\n",
            "Epoch 112/150\n",
            "\u001b[1m16/16\u001b[0m \u001b[32m━━━━━━━━━━━━━━━━━━━━\u001b[0m\u001b[37m\u001b[0m \u001b[1m0s\u001b[0m 3ms/step - loss: 104.8769 - mae: 5.3496 - val_loss: 125.8746 - val_mae: 8.8338\n",
            "Epoch 113/150\n",
            "\u001b[1m16/16\u001b[0m \u001b[32m━━━━━━━━━━━━━━━━━━━━\u001b[0m\u001b[37m\u001b[0m \u001b[1m0s\u001b[0m 3ms/step - loss: 215.9081 - mae: 10.9966 - val_loss: 125.6555 - val_mae: 8.8235\n",
            "Epoch 114/150\n",
            "\u001b[1m16/16\u001b[0m \u001b[32m━━━━━━━━━━━━━━━━━━━━\u001b[0m\u001b[37m\u001b[0m \u001b[1m0s\u001b[0m 3ms/step - loss: 168.8164 - mae: 8.0943 - val_loss: 125.4581 - val_mae: 8.8148\n",
            "Epoch 115/150\n",
            "\u001b[1m16/16\u001b[0m \u001b[32m━━━━━━━━━━━━━━━━━━━━\u001b[0m\u001b[37m\u001b[0m \u001b[1m0s\u001b[0m 3ms/step - loss: 171.2991 - mae: 8.6620 - val_loss: 125.2903 - val_mae: 8.8053\n",
            "Epoch 116/150\n",
            "\u001b[1m16/16\u001b[0m \u001b[32m━━━━━━━━━━━━━━━━━━━━\u001b[0m\u001b[37m\u001b[0m \u001b[1m0s\u001b[0m 3ms/step - loss: 85.8611 - mae: 5.1349 - val_loss: 125.1083 - val_mae: 8.7964\n",
            "Epoch 117/150\n",
            "\u001b[1m16/16\u001b[0m \u001b[32m━━━━━━━━━━━━━━━━━━━━\u001b[0m\u001b[37m\u001b[0m \u001b[1m0s\u001b[0m 3ms/step - loss: 133.4766 - mae: 6.9461 - val_loss: 124.8968 - val_mae: 8.7859\n",
            "Epoch 118/150\n",
            "\u001b[1m16/16\u001b[0m \u001b[32m━━━━━━━━━━━━━━━━━━━━\u001b[0m\u001b[37m\u001b[0m \u001b[1m0s\u001b[0m 3ms/step - loss: 152.3592 - mae: 7.5934 - val_loss: 124.6898 - val_mae: 8.7763\n",
            "Epoch 119/150\n",
            "\u001b[1m16/16\u001b[0m \u001b[32m━━━━━━━━━━━━━━━━━━━━\u001b[0m\u001b[37m\u001b[0m \u001b[1m0s\u001b[0m 4ms/step - loss: 117.0617 - mae: 6.4689 - val_loss: 124.5162 - val_mae: 8.7693\n",
            "Epoch 120/150\n",
            "\u001b[1m16/16\u001b[0m \u001b[32m━━━━━━━━━━━━━━━━━━━━\u001b[0m\u001b[37m\u001b[0m \u001b[1m0s\u001b[0m 4ms/step - loss: 170.1043 - mae: 8.4413 - val_loss: 124.3340 - val_mae: 8.7604\n",
            "Epoch 121/150\n",
            "\u001b[1m16/16\u001b[0m \u001b[32m━━━━━━━━━━━━━━━━━━━━\u001b[0m\u001b[37m\u001b[0m \u001b[1m0s\u001b[0m 4ms/step - loss: 125.5587 - mae: 6.2550 - val_loss: 124.1416 - val_mae: 8.7523\n",
            "Epoch 122/150\n",
            "\u001b[1m16/16\u001b[0m \u001b[32m━━━━━━━━━━━━━━━━━━━━\u001b[0m\u001b[37m\u001b[0m \u001b[1m0s\u001b[0m 3ms/step - loss: 223.1655 - mae: 10.9258 - val_loss: 123.9250 - val_mae: 8.7411\n",
            "Epoch 123/150\n",
            "\u001b[1m16/16\u001b[0m \u001b[32m━━━━━━━━━━━━━━━━━━━━\u001b[0m\u001b[37m\u001b[0m \u001b[1m0s\u001b[0m 4ms/step - loss: 100.3949 - mae: 5.3629 - val_loss: 123.7638 - val_mae: 8.7345\n",
            "Epoch 124/150\n",
            "\u001b[1m16/16\u001b[0m \u001b[32m━━━━━━━━━━━━━━━━━━━━\u001b[0m\u001b[37m\u001b[0m \u001b[1m0s\u001b[0m 4ms/step - loss: 198.4152 - mae: 8.8530 - val_loss: 123.5622 - val_mae: 8.7248\n",
            "Epoch 125/150\n",
            "\u001b[1m16/16\u001b[0m \u001b[32m━━━━━━━━━━━━━━━━━━━━\u001b[0m\u001b[37m\u001b[0m \u001b[1m0s\u001b[0m 4ms/step - loss: 101.1968 - mae: 6.0256 - val_loss: 123.3829 - val_mae: 8.7159\n",
            "Epoch 126/150\n",
            "\u001b[1m16/16\u001b[0m \u001b[32m━━━━━━━━━━━━━━━━━━━━\u001b[0m\u001b[37m\u001b[0m \u001b[1m0s\u001b[0m 4ms/step - loss: 161.7167 - mae: 8.6525 - val_loss: 123.1890 - val_mae: 8.7080\n",
            "Epoch 127/150\n",
            "\u001b[1m16/16\u001b[0m \u001b[32m━━━━━━━━━━━━━━━━━━━━\u001b[0m\u001b[37m\u001b[0m \u001b[1m0s\u001b[0m 4ms/step - loss: 224.6891 - mae: 10.2144 - val_loss: 122.9742 - val_mae: 8.6990\n",
            "Epoch 128/150\n",
            "\u001b[1m16/16\u001b[0m \u001b[32m━━━━━━━━━━━━━━━━━━━━\u001b[0m\u001b[37m\u001b[0m \u001b[1m0s\u001b[0m 4ms/step - loss: 200.9854 - mae: 9.9111 - val_loss: 122.7890 - val_mae: 8.6905\n",
            "Epoch 129/150\n",
            "\u001b[1m16/16\u001b[0m \u001b[32m━━━━━━━━━━━━━━━━━━━━\u001b[0m\u001b[37m\u001b[0m \u001b[1m0s\u001b[0m 3ms/step - loss: 90.3671 - mae: 4.8415 - val_loss: 122.6115 - val_mae: 8.6809\n",
            "Epoch 130/150\n",
            "\u001b[1m16/16\u001b[0m \u001b[32m━━━━━━━━━━━━━━━━━━━━\u001b[0m\u001b[37m\u001b[0m \u001b[1m0s\u001b[0m 3ms/step - loss: 50.3448 - mae: 3.4366 - val_loss: 122.4479 - val_mae: 8.6735\n",
            "Epoch 131/150\n",
            "\u001b[1m16/16\u001b[0m \u001b[32m━━━━━━━━━━━━━━━━━━━━\u001b[0m\u001b[37m\u001b[0m \u001b[1m0s\u001b[0m 3ms/step - loss: 151.2617 - mae: 6.9751 - val_loss: 122.2278 - val_mae: 8.6650\n",
            "Epoch 132/150\n",
            "\u001b[1m16/16\u001b[0m \u001b[32m━━━━━━━━━━━━━━━━━━━━\u001b[0m\u001b[37m\u001b[0m \u001b[1m0s\u001b[0m 3ms/step - loss: 79.3934 - mae: 5.3249 - val_loss: 122.0392 - val_mae: 8.6560\n",
            "Epoch 133/150\n",
            "\u001b[1m16/16\u001b[0m \u001b[32m━━━━━━━━━━━━━━━━━━━━\u001b[0m\u001b[37m\u001b[0m \u001b[1m0s\u001b[0m 3ms/step - loss: 96.4340 - mae: 5.9040 - val_loss: 121.8129 - val_mae: 8.6450\n",
            "Epoch 134/150\n",
            "\u001b[1m16/16\u001b[0m \u001b[32m━━━━━━━━━━━━━━━━━━━━\u001b[0m\u001b[37m\u001b[0m \u001b[1m0s\u001b[0m 3ms/step - loss: 190.3148 - mae: 8.9923 - val_loss: 121.5963 - val_mae: 8.6362\n",
            "Epoch 135/150\n",
            "\u001b[1m16/16\u001b[0m \u001b[32m━━━━━━━━━━━━━━━━━━━━\u001b[0m\u001b[37m\u001b[0m \u001b[1m0s\u001b[0m 4ms/step - loss: 118.6163 - mae: 6.3051 - val_loss: 121.3931 - val_mae: 8.6284\n",
            "Epoch 136/150\n",
            "\u001b[1m16/16\u001b[0m \u001b[32m━━━━━━━━━━━━━━━━━━━━\u001b[0m\u001b[37m\u001b[0m \u001b[1m0s\u001b[0m 4ms/step - loss: 125.1916 - mae: 6.8404 - val_loss: 121.1690 - val_mae: 8.6174\n",
            "Epoch 137/150\n",
            "\u001b[1m16/16\u001b[0m \u001b[32m━━━━━━━━━━━━━━━━━━━━\u001b[0m\u001b[37m\u001b[0m \u001b[1m0s\u001b[0m 3ms/step - loss: 91.8412 - mae: 5.2798 - val_loss: 120.9608 - val_mae: 8.6080\n",
            "Epoch 138/150\n",
            "\u001b[1m16/16\u001b[0m \u001b[32m━━━━━━━━━━━━━━━━━━━━\u001b[0m\u001b[37m\u001b[0m \u001b[1m0s\u001b[0m 4ms/step - loss: 167.1325 - mae: 8.5355 - val_loss: 120.7281 - val_mae: 8.5997\n",
            "Epoch 139/150\n",
            "\u001b[1m16/16\u001b[0m \u001b[32m━━━━━━━━━━━━━━━━━━━━\u001b[0m\u001b[37m\u001b[0m \u001b[1m0s\u001b[0m 4ms/step - loss: 121.9340 - mae: 6.2245 - val_loss: 120.5120 - val_mae: 8.5895\n",
            "Epoch 140/150\n",
            "\u001b[1m16/16\u001b[0m \u001b[32m━━━━━━━━━━━━━━━━━━━━\u001b[0m\u001b[37m\u001b[0m \u001b[1m0s\u001b[0m 3ms/step - loss: 195.2834 - mae: 9.7194 - val_loss: 120.2692 - val_mae: 8.5795\n",
            "Epoch 141/150\n",
            "\u001b[1m16/16\u001b[0m \u001b[32m━━━━━━━━━━━━━━━━━━━━\u001b[0m\u001b[37m\u001b[0m \u001b[1m0s\u001b[0m 3ms/step - loss: 230.2109 - mae: 10.6527 - val_loss: 119.9896 - val_mae: 8.5671\n",
            "Epoch 142/150\n",
            "\u001b[1m16/16\u001b[0m \u001b[32m━━━━━━━━━━━━━━━━━━━━\u001b[0m\u001b[37m\u001b[0m \u001b[1m0s\u001b[0m 4ms/step - loss: 121.0698 - mae: 6.5826 - val_loss: 119.7502 - val_mae: 8.5576\n",
            "Epoch 143/150\n",
            "\u001b[1m16/16\u001b[0m \u001b[32m━━━━━━━━━━━━━━━━━━━━\u001b[0m\u001b[37m\u001b[0m \u001b[1m0s\u001b[0m 3ms/step - loss: 145.0696 - mae: 6.9434 - val_loss: 119.5142 - val_mae: 8.5476\n",
            "Epoch 144/150\n",
            "\u001b[1m16/16\u001b[0m \u001b[32m━━━━━━━━━━━━━━━━━━━━\u001b[0m\u001b[37m\u001b[0m \u001b[1m0s\u001b[0m 4ms/step - loss: 148.8221 - mae: 7.5877 - val_loss: 119.2313 - val_mae: 8.5355\n",
            "Epoch 145/150\n",
            "\u001b[1m16/16\u001b[0m \u001b[32m━━━━━━━━━━━━━━━━━━━━\u001b[0m\u001b[37m\u001b[0m \u001b[1m0s\u001b[0m 3ms/step - loss: 111.3266 - mae: 6.8581 - val_loss: 118.9605 - val_mae: 8.5248\n",
            "Epoch 146/150\n",
            "\u001b[1m16/16\u001b[0m \u001b[32m━━━━━━━━━━━━━━━━━━━━\u001b[0m\u001b[37m\u001b[0m \u001b[1m0s\u001b[0m 3ms/step - loss: 82.7081 - mae: 5.0892 - val_loss: 118.6964 - val_mae: 8.5137\n",
            "Epoch 147/150\n",
            "\u001b[1m16/16\u001b[0m \u001b[32m━━━━━━━━━━━━━━━━━━━━\u001b[0m\u001b[37m\u001b[0m \u001b[1m0s\u001b[0m 4ms/step - loss: 72.6721 - mae: 3.9651 - val_loss: 118.3954 - val_mae: 8.5008\n",
            "Epoch 148/150\n",
            "\u001b[1m16/16\u001b[0m \u001b[32m━━━━━━━━━━━━━━━━━━━━\u001b[0m\u001b[37m\u001b[0m \u001b[1m0s\u001b[0m 3ms/step - loss: 99.3025 - mae: 5.3612 - val_loss: 118.0663 - val_mae: 8.4876\n",
            "Epoch 149/150\n",
            "\u001b[1m16/16\u001b[0m \u001b[32m━━━━━━━━━━━━━━━━━━━━\u001b[0m\u001b[37m\u001b[0m \u001b[1m0s\u001b[0m 3ms/step - loss: 170.3497 - mae: 8.3806 - val_loss: 117.7403 - val_mae: 8.4738\n",
            "Epoch 150/150\n",
            "\u001b[1m16/16\u001b[0m \u001b[32m━━━━━━━━━━━━━━━━━━━━\u001b[0m\u001b[37m\u001b[0m \u001b[1m0s\u001b[0m 4ms/step - loss: 125.7498 - mae: 7.2806 - val_loss: 117.3684 - val_mae: 8.4595\n"
          ]
        },
        {
          "data": {
            "text/plain": [
              "<keras.src.callbacks.history.History at 0x7c2427ef5b80>"
            ]
          },
          "execution_count": 7,
          "metadata": {},
          "output_type": "execute_result"
        }
      ],
      "source": [
        "# You can adjust the number of epochs and batch size based on your data and resources.\n",
        "model.fit(X_train, y_train, epochs=150, batch_size=1, validation_split=0.2)"
      ]
    },
    {
      "cell_type": "markdown",
      "metadata": {},
      "source": [
        "#### Training Cycle \n",
        "\n",
        "An $Epoch$ represents one complete training cycle of a neural network. During each $Epoch$, the network processes the entire training dataset once, adjusting its internal weights and biases. Initially, these weights and biases are set to random values. Using the training data (inputs with known outputs), the network applies forward propagation to make predictions and backward propagation to iteratively update the weights. This process minimises the error between predicted and actual outputs. With repeated epochs, the network's accuracy improves as it learns to recognise patterns in the data."
      ]
    },
    {
      "cell_type": "markdown",
      "metadata": {
        "id": "v-PyD1SYE28q"
      },
      "source": [
        "### Step 8: Execution Cycle (Make predictions)\n",
        "\n",
        "The execution cycle follows the training cycle and utilises the optimal internal values developed during the training cycle to determine the output. With the model trained, you can use it to make predictions about new features."
      ]
    },
    {
      "cell_type": "code",
      "execution_count": 8,
      "metadata": {
        "id": "DnfNA0CrQLSD"
      },
      "outputs": [
        {
          "name": "stdout",
          "output_type": "stream",
          "text": [
            "\u001b[1m1/1\u001b[0m \u001b[32m━━━━━━━━━━━━━━━━━━━━\u001b[0m\u001b[37m\u001b[0m \u001b[1m0s\u001b[0m 47ms/step\n",
            "New feature is:\n",
            "[[3.498605]]\n"
          ]
        }
      ],
      "source": [
        "#Predict the target for a new data point\n",
        "new_y = np.array([4])\n",
        "\n",
        "new_y = model.predict(new_y)\n",
        "print(f\"New feature is:\\n{new_y}\")"
      ]
    },
    {
      "cell_type": "markdown",
      "metadata": {},
      "source": [
        "> [!Important]\n",
        ">\n",
        "> Neural Network training is inherently [stochastic](https://en.wikipedia.org/wiki/Stochastic), the tuning of the neurons depends on the initialisation of the weights. So the result (the local minimum you end up in) depends on the initialisation too. This can be observed in the variance of this prediction after re-training the model."
      ]
    },
    {
      "cell_type": "markdown",
      "metadata": {
        "id": "Zh9yABaME29S"
      },
      "source": [
        "#### Step 9: Plot the Predictions"
      ]
    },
    {
      "cell_type": "code",
      "execution_count": 9,
      "metadata": {
        "id": "HV5jw-5HwSmO"
      },
      "outputs": [
        {
          "name": "stdout",
          "output_type": "stream",
          "text": [
            "\u001b[1m1/1\u001b[0m \u001b[32m━━━━━━━━━━━━━━━━━━━━\u001b[0m\u001b[37m\u001b[0m \u001b[1m0s\u001b[0m 54ms/step\n",
            "\u001b[1m1/1\u001b[0m \u001b[32m━━━━━━━━━━━━━━━━━━━━\u001b[0m\u001b[37m\u001b[0m \u001b[1m0s\u001b[0m 21ms/step\n"
          ]
        },
        {
          "data": {
            "image/png": "[encoded data removed]",
            "text/plain": [
              "<Figure size 640x480 with 1 Axes>"
            ]
          },
          "metadata": {},
          "output_type": "display_data"
        }
      ],
      "source": [
        "# Plot the actual data and model predictions\n",
        "plt.scatter(X_train, y_train, label='Training Data', color='blue')\n",
        "plt.scatter(X_train, model.predict(y_train), label='Predicted Training Data', color='red')\n",
        "plt.scatter(X_test, y_test, label='Testing Data', color='green')\n",
        "plt.scatter(X_test, model.predict(y_test), label='Predicted Testing Data', color='yellow')\n",
        "plt.xlabel('X')\n",
        "plt.ylabel('Y')\n",
        "plt.legend()\n",
        "plt.title('Neural Network Regression')\n",
        "plt.show()"
      ]
    },
    {
      "cell_type": "markdown",
      "metadata": {},
      "source": [
        "#### Step 9: Evaluate The Model"
      ]
    },
    {
      "cell_type": "code",
      "execution_count": 10,
      "metadata": {},
      "outputs": [
        {
          "name": "stdout",
          "output_type": "stream",
          "text": [
            "\u001b[1m1/1\u001b[0m \u001b[32m━━━━━━━━━━━━━━━━━━━━\u001b[0m\u001b[37m\u001b[0m \u001b[1m0s\u001b[0m 98ms/step - loss: 71.4866 - mae: 4.5060\n",
            "Model Evalutation: [71.486572265625, 4.505960464477539]\n",
            "\u001b[1m1/1\u001b[0m \u001b[32m━━━━━━━━━━━━━━━━━━━━\u001b[0m\u001b[37m\u001b[0m \u001b[1m0s\u001b[0m 22ms/step\n",
            "\u001b[1m1/1\u001b[0m \u001b[32m━━━━━━━━━━━━━━━━━━━━\u001b[0m\u001b[37m\u001b[0m \u001b[1m0s\u001b[0m 23ms/step\n",
            "MAE: 7.793461322784424\n",
            "MSE: 133.0572052001953\n",
            "\n",
            "\u001b[1m1/1\u001b[0m \u001b[32m━━━━━━━━━━━━━━━━━━━━\u001b[0m\u001b[37m\u001b[0m \u001b[1m0s\u001b[0m 22ms/step\n",
            "The cost or average loss of this model is 0.37112\n",
            "    Target  Predicted result       Loss\n",
            "0       19         17.825911   1.174089\n",
            "1      -27         -1.278996  25.721004\n",
            "2        3          2.543451   0.456549\n",
            "3        7          6.364066   0.635934\n",
            "4       17         15.915603   1.084397\n",
            "5       -3         -0.974908   2.025092\n",
            "6       23         21.646526   1.353474\n",
            "7       -9         -1.045091   7.954909\n",
            "8       -5         -0.993112   4.006888\n",
            "9       15         14.005294   0.994706\n",
            "10     -19         -1.175038  17.824962\n",
            "11     -11         -1.071080   9.928920\n",
            "12       9          8.274372   0.725628\n",
            "13     -25         -1.253006  23.746994\n",
            "14     -23         -1.227017  21.772983\n",
            "15       1          0.633143   0.366857\n",
            "16     -13         -1.097070  11.902930\n",
            "17      25         23.556833   1.443167\n",
            "18     -15         -1.123059  13.876941\n",
            "19     -17         -1.149049  15.850951\n",
            "20      11         10.184680   0.815320\n"
          ]
        }
      ],
      "source": [
        "#Get Evalutative Data from the model\n",
        "model_eval = model.evaluate(X_test, y_test)\n",
        "print(f\"Model Evalutation: {model_eval}\")\n",
        "mae = mean_absolute_error(y_true=y_train,y_pred=model.predict(y_train)) \n",
        "mse = mean_squared_error(y_true=y_train,y_pred=model.predict(y_train))\n",
        "print(\"MAE:\",mae) \n",
        "print(\"MSE:\",mse) \n",
        "print()\n",
        "\n",
        "#Manually calculate the loss and cost of the model\n",
        "predictions = model.predict(y_train).flatten()\n",
        "model_loss = pd.DataFrame({\n",
        "    'Target': y_train,\n",
        "    'Predicted result': predictions,\n",
        "    'Loss': abs(y_train - predictions)\n",
        "})\n",
        "model_cost = (1/model_loss.shape[0]) * (model_loss['Loss'].sum() / model_loss.shape[0])\n",
        "print(f\"The cost or average loss of this model is {model_cost:.5f}\")\n",
        "print(model_loss)"
      ]
    }
  ],
  "metadata": {
    "colab": {
      "collapsed_sections": [],
      "name": "classification.ipynb",
      "toc_visible": true
    },
    "kernelspec": {
      "display_name": "Python 3",
      "name": "python3"
    },
    "language_info": {
      "codemirror_mode": {
        "name": "ipython",
        "version": 3
      },
      "file_extension": ".py",
      "mimetype": "text/x-python",
      "name": "python",
      "nbconvert_exporter": "python",
      "pygments_lexer": "ipython3",
      "version": "3.12.1"
    }
  },
  "nbformat": 4,
  "nbformat_minor": 0
}
