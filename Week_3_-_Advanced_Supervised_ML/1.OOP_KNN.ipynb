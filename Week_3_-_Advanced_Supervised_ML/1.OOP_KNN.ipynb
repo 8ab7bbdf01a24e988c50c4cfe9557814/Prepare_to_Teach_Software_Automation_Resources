{
 "cells": [
  {
   "cell_type": "markdown",
   "metadata": {},
   "source": [
    "# OOP K-Nearest Neighbour Implementation"
   ]
  },
  {
   "cell_type": "markdown",
   "metadata": {},
   "source": [
    "This Jupyter Notebook provides a basic implementation of K-Nearest Neighbour for categorisation. The data set contains measurements on a single species of insect captured on two continents. We want to predict an insects sex given the latitude and wingspan."
   ]
  },
  {
   "cell_type": "markdown",
   "metadata": {},
   "source": [
    "#### Step 1 - Import Dependencies"
   ]
  },
  {
   "cell_type": "code",
   "execution_count": null,
   "metadata": {
    "collapsed": false
   },
   "outputs": [],
   "source": [
    "import numpy as np\n",
    "import pandas as pd\n",
    "\n",
    "import matplotlib.pyplot as plt\n",
    "plt.style.use('ggplot')\n",
    "\n",
    "from sklearn.neighbors import KNeighborsClassifier"
   ]
  },
  {
   "cell_type": "markdown",
   "metadata": {},
   "source": [
    "#### Step 2 - Import And Visualise The Data"
   ]
  },
  {
   "cell_type": "code",
   "execution_count": null,
   "metadata": {
    "collapsed": true
   },
   "outputs": [],
   "source": [
    "#Import data as a Pandas DataFrame\n",
    "insects = pd.read_csv('./data/insects.csv', sep='\\t')\n",
    "insects = pd.DataFrame({\n",
    "    'continent': insects['continent'],\n",
    "    'latitude': insects['latitude'],\n",
    "    'sex': insects['sex'],\n",
    "    'wingsize': insects['wingsize']\n",
    "})\n",
    "\n",
    "# Training variables\n",
    "X_insects = insects['latitude']\n",
    "y_insects = insects['wingsize']\n",
    "\n",
    "# Training data, 'X and y' labels are required by the KNeighborsClassifier\n",
    "neighbours = pd.DataFrame({'X': X_insects, 'y': y_insects})\n",
    "\n",
    "# Target variable\n",
    "X_class = insects['sex']\n",
    "\n",
    "insects.head()"
   ]
  },
  {
   "cell_type": "code",
   "execution_count": null,
   "metadata": {},
   "outputs": [],
   "source": [
    "# Plot the data, colour coded by sex\n",
    "plt.scatter(X_insects, y_insects, c=X_class)\n",
    "plt.xlabel(X_insects.name)\n",
    "plt.ylabel(y_insects.name)\n",
    "plt.colorbar()\n",
    "plt.show()"
   ]
  },
  {
   "cell_type": "markdown",
   "metadata": {},
   "source": [
    "#### Step 3: Instantiate a K-Nearest Neighbour Classification Object"
   ]
  },
  {
   "cell_type": "code",
   "execution_count": null,
   "metadata": {
    "collapsed": true
   },
   "outputs": [],
   "source": [
    "#Note: n_neighbors should always be odd\n",
    "knn = KNeighborsClassifier(n_neighbors=1)"
   ]
  },
  {
   "cell_type": "markdown",
   "metadata": {},
   "source": [
    "#### Step 4: Fit the model"
   ]
  },
  {
   "cell_type": "code",
   "execution_count": null,
   "metadata": {
    "collapsed": false
   },
   "outputs": [],
   "source": [
    "knn.fit(neighbours, X_class)"
   ]
  },
  {
   "cell_type": "markdown",
   "metadata": {},
   "source": [
    "#### Step 5: Predict Values"
   ]
  },
  {
   "cell_type": "code",
   "execution_count": null,
   "metadata": {
    "collapsed": false
   },
   "outputs": [],
   "source": [
    "#Predict the target for a new data point\n",
    "new_insect_latitude = 40\n",
    "new_insect_wingsize = 900\n",
    "new_insect = pd.DataFrame({\n",
    "    'X': [new_insect_latitude],\n",
    "    'y': [new_insect_wingsize]\n",
    "})\n",
    "\n",
    "predicted_sex = knn.predict(new_insect)\n",
    "\n",
    "print(f\"The predicted sex for an insect with latitude {new_insect_latitude} and wing size {new_insect_wingsize}: {predicted_sex}\")"
   ]
  },
  {
   "cell_type": "markdown",
   "metadata": {},
   "source": [
    "#### Step 5: Plot the Predictions"
   ]
  },
  {
   "cell_type": "code",
   "execution_count": null,
   "metadata": {},
   "outputs": [],
   "source": [
    "#Plot the new insect compared to the training data\n",
    "plt.scatter(X_insects, y_insects, c=X_class)\n",
    "plt.scatter(new_insect_latitude, new_insect_wingsize, c=predicted_sex)\n",
    "plt.text(x=new_insect_latitude+0.25, y=new_insect_wingsize-2, s=f\"<- Prediction, class: {predicted_sex[0]}\")\n",
    "plt.xlabel(X_insects.name)\n",
    "plt.ylabel(y_insects.name)\n",
    "plt.show()"
   ]
  }
 ],
 "metadata": {
  "anaconda-cloud": {},
  "kernelspec": {
   "display_name": "Python 3",
   "language": "python",
   "name": "python3"
  },
  "language_info": {
   "codemirror_mode": {
    "name": "ipython",
    "version": 3
   },
   "file_extension": ".py",
   "mimetype": "text/x-python",
   "name": "python",
   "nbconvert_exporter": "python",
   "pygments_lexer": "ipython3",
   "version": "3.12.6"
  }
 },
 "nbformat": 4,
 "nbformat_minor": 0
}
