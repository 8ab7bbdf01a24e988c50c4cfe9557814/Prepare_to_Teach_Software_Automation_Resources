{
 "cells": [
  {
   "cell_type": "markdown",
   "metadata": {},
   "source": [
    "# Week 4 - Problem Set\n",
    "\n",
    "Pratice what you learnt today with these problems, the answers will be shared on Monday before the next workshop."
   ]
  },
  {
   "cell_type": "code",
   "execution_count": null,
   "metadata": {},
   "outputs": [],
   "source": [
    "import numpy as np\n",
    "import matplotlib.pyplot as plt\n",
    "from utils_common import compute_model_output"
   ]
  },
  {
   "cell_type": "markdown",
   "metadata": {},
   "source": [
    "__1. In a markdown block describe the role of training testing data in detecting if a machine learning model is overfitting or underfitting?__"
   ]
  },
  {
   "cell_type": "code",
   "execution_count": null,
   "metadata": {},
   "outputs": [],
   "source": [
    "# Visual for questions 2 & 3\n",
    "fig, ax = plt.subplots()\n",
    "x = np.linspace(10, -10, 100)\n",
    "y = -x**2 + 4*x + 2  \n",
    "x = x + np.random.uniform(-3, 3, size=x.shape)\n",
    "y = y + np.random.uniform(-5, 5, size=y.shape)\n",
    "ax.scatter(x, y, c='b', label='Training data')\n",
    "x_lin = np.array([-10,10])\n",
    "tmp_f_mb = compute_model_output(x_lin, 0, 0,)\n",
    "ax.plot(x_lin, tmp_f_mb, c='r', label='ML Model')\n",
    "ax.set_xticks([])\n",
    "ax.set_xticklabels([])\n",
    "ax.set_yticks([])\n",
    "ax.set_yticklabels([])\n",
    "plt.legend()\n",
    "plt.show()"
   ]
  },
  {
   "cell_type": "markdown",
   "metadata": {},
   "source": [
    "__2. In a markdown box, explain 'underfitting' using the above graph as a reference.__"
   ]
  },
  {
   "cell_type": "markdown",
   "metadata": {},
   "source": [
    "__3. In a markdown box, explain bias and variance refering to the above model.__ "
   ]
  },
  {
   "cell_type": "code",
   "execution_count": null,
   "metadata": {},
   "outputs": [],
   "source": [
    "# Visual for questions 4\n",
    "\n",
    "xx = np.array([10, 55])\n",
    "yy = np.array([10, 55])\n",
    "means = [xx.mean(), yy.mean()]  \n",
    "stds = [xx.std() / 3, yy.std() / 3]\n",
    "covs = [[stds[0]**2, stds[0]*stds[1]*0.7], \n",
    "[stds[0]*stds[1]*0.7, stds[1]**2]] \n",
    "m = np.random.multivariate_normal(means, covs, 200).T\n",
    "xx = np.array([0, 50])\n",
    "yy = np.array([0, 40])\n",
    "means = [xx.mean(), yy.mean()]  \n",
    "stds = [xx.std() / 3, yy.std() / 3]\n",
    "covs = [[stds[0]**2, stds[0]*stds[1]*0.5], \n",
    "[stds[0]*stds[1]*0.5, stds[1]**2]] \n",
    "n = np.random.multivariate_normal(means, covs, 50).T\n",
    "plt.xlabel(\"Feature\")\n",
    "plt.ylabel(\"Target\")\n",
    "plt.scatter(m[0], m[1], color='pink', label='Training Data')\n",
    "plt.scatter(n[0], n[1], color='black', label='Testing Data')\n",
    "plt.xticks([])\n",
    "plt.yticks([])\n",
    "plt.legend()\n",
    "plt.show()"
   ]
  },
  {
   "cell_type": "markdown",
   "metadata": {},
   "source": [
    "__4. In a markdown box, discuss the the expected issues when evaluating a model with this training/testing split.__ "
   ]
  },
  {
   "cell_type": "markdown",
   "metadata": {},
   "source": [
    "__5. In a code block, manually or proceedurally one hot encode this data.__\n",
    "\n",
    "| Colour | Animal | Witches Cat |\n",
    "| --- | --- | --- |\n",
    "| Black | Cat | Absolutely |\n",
    "| White | cat | Nein |\n",
    "| Brown | Cat | Never |\n",
    "| Black | Dog | Nope |\n",
    "| White | Dog | Negative |\n",
    "| Brown | Dog | Nah |"
   ]
  },
  {
   "cell_type": "markdown",
   "metadata": {},
   "source": [
    "__6. For each set of data below select the appropriate Matplotlib visualisation and plot them into a 1x 3 row of subplots with labels, legends and colour coding where appropriate to the data.__"
   ]
  },
  {
   "cell_type": "code",
   "execution_count": null,
   "metadata": {},
   "outputs": [],
   "source": [
    "# Set 1\n",
    "x0 = [1,2,3,4,5]\n",
    "y0 = [1,2,3,4,5]\n",
    "target = [0,1,0,1,0]\n",
    "\n",
    "# Set 2\n",
    "x1 = [10,8,6,4,2,0]\n",
    "y1 = [0,1,3,5,7,9]\n",
    "\n",
    "# Set 3\n",
    "x2 = np.array([[10],[8],[6],[4],[2],[0]])\n",
    "model = compute_model_output(x2, 1, 0,)"
   ]
  },
  {
   "cell_type": "markdown",
   "metadata": {},
   "source": [
    "__7. Read '[ATO AI Models Draw Deep Scrutiny](https://www.itnews.com.au/news/atos-ai-models-draw-deep-scrutiny-615225)' and in a markdown block outline where ML/AI bias had entered their MLOps lifecycle.__"
   ]
  },
  {
   "cell_type": "markdown",
   "metadata": {},
   "source": [
    "__8. Play [Survival of the best fit](https://www.survivalofthebestfit.com/)__"
   ]
  }
 ],
 "metadata": {
  "kernelspec": {
   "display_name": "Python 3",
   "language": "python",
   "name": "python3"
  },
  "language_info": {
   "codemirror_mode": {
    "name": "ipython",
    "version": 3
   },
   "file_extension": ".py",
   "mimetype": "text/x-python",
   "name": "python",
   "nbconvert_exporter": "python",
   "pygments_lexer": "ipython3",
   "version": "3.12.1"
  }
 },
 "nbformat": 4,
 "nbformat_minor": 2
}
