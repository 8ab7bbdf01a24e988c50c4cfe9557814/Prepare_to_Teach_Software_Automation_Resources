{
 "cells": [
  {
   "cell_type": "markdown",
   "metadata": {},
   "source": [
    "# Matplotlib\n",
    "\n",
    "Matplotlib is a comprehensive library for creating data visualisations in Python.\n",
    "\n",
    "[Read the Matplotlib documentation](https://matplotlib.org/stable/plot_types/index.html)."
   ]
  },
  {
   "cell_type": "code",
   "execution_count": null,
   "metadata": {},
   "outputs": [],
   "source": [
    "# Import dependancies\n",
    "import numpy as np\n",
    "import pandas as pd\n",
    "import matplotlib.pyplot as plt\n",
    "from sklearn.linear_model import LinearRegression\n",
    "\n",
    "# Print the different inbuilt plot styles\n",
    "print(plt.style.available)\n",
    "\n",
    "# Apply the `ggplot` style\n",
    "plt.style.use('ggplot')"
   ]
  },
  {
   "cell_type": "code",
   "execution_count": null,
   "metadata": {},
   "outputs": [],
   "source": [
    "x = [1,2,3,4,5]\n",
    "y = [1,2,3,4,5]\n",
    "\n",
    "# Scatter the data points\n",
    "plt.scatter(x, y, marker='o', s=75, c='r',label='Values', zorder=3)\n",
    "# Line the data points\n",
    "plt.plot(x, y, marker='x', c='b',label='Trend', zorder=2)\n",
    "# Bar plot the data\n",
    "plt.bar(x, y, width=1, color='green', edgecolor=\"white\", zorder=0)\n",
    "# Set the title\n",
    "plt.title(\"A Random Visualisation\")\n",
    "# Set the y-axis label\n",
    "plt.ylabel('Target')\n",
    "# Set the x-axis label\n",
    "plt.xlabel('Feature')\n",
    "plt.legend()\n",
    "plt.show()"
   ]
  },
  {
   "cell_type": "markdown",
   "metadata": {},
   "source": [
    "#### Plots as objects"
   ]
  },
  {
   "cell_type": "code",
   "execution_count": null,
   "metadata": {},
   "outputs": [],
   "source": [
    "x = [1,2,3,4,5]\n",
    "y = [1,2,3,4,5]\n",
    "col = [1,2,3,4,5]\n",
    "col_hex = [\"#000000\", '#ff0000', \"#00ff00\", \"#0000ff\", \"#ffffff\"]\n",
    "\n",
    "fig,ax = plt.subplots(3)\n",
    "ax[0].scatter(x, y, s=40, c=col)\n",
    "ax[0].set_xlabel(\"x\")\n",
    "ax[0].set_ylabel(\"y\")\n",
    "\n",
    "ax[1].plot(x, y, marker='x', label='Trend')\n",
    "ax[1].set_xlabel(\"x\")\n",
    "ax[1].set_ylabel(\"y\")\n",
    "\n",
    "ax[2].bar(x, y, width=1, edgecolor=\"white\", color=col_hex)\n",
    "ax[2].set_xlabel(\"x\")\n",
    "ax[2].set_ylabel(\"y\")\n",
    "\n",
    "fig.suptitle(\"2x2 Grid of ax objects\", fontsize=16)\n",
    "#plt.tight_layout(rect=[0, 0, 1, 0.95]) \n",
    "plt.show()"
   ]
  },
  {
   "cell_type": "code",
   "execution_count": null,
   "metadata": {},
   "outputs": [],
   "source": [
    "x = [1,2,3,4,5]\n",
    "y = [1,2,3,4,5]\n",
    "col = [1,2,3,4,5]\n",
    "\n",
    "fig,ax = plt.subplots(2,2)\n",
    "ax[0,0].scatter(x, y, s=40, c=col)\n",
    "ax[0,0].set_xlabel(\"x\")\n",
    "ax[0,0].set_ylabel(\"y\")\n",
    "\n",
    "ax[1,0].scatter(x, y, s=40, c=col)\n",
    "ax[1,0].set_xlabel(\"x\")\n",
    "ax[1,0].set_ylabel(\"y\")\n",
    "\n",
    "ax[0,1].scatter(x, y, s=40, c=col)\n",
    "ax[0,1].set_xlabel(\"x\")\n",
    "ax[0,1].set_ylabel(\"y\")\n",
    "\n",
    "ax[1,1].scatter(x, y, s=40, c=col)\n",
    "ax[1,1].set_xlabel(\"x\")\n",
    "ax[1,1].set_ylabel(\"y\")\n",
    "fig.suptitle(\"2x2 Grid of ax objects\", fontsize=16)\n",
    "plt.tight_layout(rect=[0, 0, 1, 0.95]) \n",
    "plt.show()"
   ]
  }
 ],
 "metadata": {
  "kernelspec": {
   "display_name": "Python 3",
   "language": "python",
   "name": "python3"
  },
  "language_info": {
   "codemirror_mode": {
    "name": "ipython",
    "version": 3
   },
   "file_extension": ".py",
   "mimetype": "text/x-python",
   "name": "python",
   "nbconvert_exporter": "python",
   "pygments_lexer": "ipython3",
   "version": "3.12.1"
  }
 },
 "nbformat": 4,
 "nbformat_minor": 2
}
