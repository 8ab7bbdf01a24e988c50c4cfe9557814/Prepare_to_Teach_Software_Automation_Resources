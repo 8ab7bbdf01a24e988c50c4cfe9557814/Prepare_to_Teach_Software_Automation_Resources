{
 "cells": [
  {
   "cell_type": "markdown",
   "metadata": {},
   "source": [
    "# Signs of Bias & Variance\n",
    "\n",
    "| Signs of Bias | Signs of Variance |\n",
    "| --- | --- |\n",
    "| Poor intuition with new data | Noise in data set |\n",
    "| Poor intuition with Training data | Overfitting |\n",
    "| Poor intuition compared to similar models | Complexity |\n",
    "| Underfitting | High MSE |\n",
    "| Simplicity | |"
   ]
  },
  {
   "cell_type": "code",
   "execution_count": null,
   "metadata": {},
   "outputs": [],
   "source": [
    "import numpy as np\n",
    "import matplotlib.pyplot as plt\n",
    "from utils_common import compute_model_output"
   ]
  },
  {
   "cell_type": "code",
   "execution_count": null,
   "metadata": {},
   "outputs": [],
   "source": [
    "# Generate a random data set\n",
    "xx = np.array([25, 50])\n",
    "yy = np.array([25, 50])\n",
    "means = [xx.mean(), yy.mean()]  \n",
    "stds = [xx.std() / 3, yy.std() / 3]\n",
    "covs = [[stds[0]**2, stds[0]*stds[1]*0.9], \n",
    "[stds[0]*stds[1]*0.9, stds[1]**2]] \n",
    "m = np.random.multivariate_normal(means, covs, 300).T\n",
    "\n",
    "xx = np.array([0, 50])\n",
    "yy = np.array([0, 50])\n",
    "means = [xx.mean(), yy.mean()]  \n",
    "stds = [xx.std() / 3, yy.std() / 3]\n",
    "covs = [[stds[0]**2, stds[0]*stds[1]*0.01], \n",
    "[stds[0]*stds[1]*0.01, stds[1]**2]] \n",
    "n = np.random.multivariate_normal(means, covs, 10).T"
   ]
  },
  {
   "cell_type": "code",
   "execution_count": null,
   "metadata": {},
   "outputs": [],
   "source": [
    "# Variance\n",
    "plt.xlabel(\"Feature\")\n",
    "plt.ylabel(\"Target\")\n",
    "plt.scatter(m[0], m[1], color='blue')\n",
    "plt.scatter(n[0], n[1], color='blue')\n",
    "plt.legend()\n",
    "plt.show()"
   ]
  },
  {
   "cell_type": "code",
   "execution_count": null,
   "metadata": {},
   "outputs": [],
   "source": [
    "# Bias\n",
    "plt.xlabel(\"Feature\")\n",
    "plt.ylabel(\"Target\")\n",
    "plt.scatter(m[0], m[1], color='pink', label='Women')\n",
    "plt.scatter(n[0], n[1], color='blue', label='Men')\n",
    "plt.legend()\n",
    "plt.show()"
   ]
  },
  {
   "cell_type": "markdown",
   "metadata": {},
   "source": [
    "Relationship between Bias, Variance and Fit/Intuition"
   ]
  },
  {
   "cell_type": "code",
   "execution_count": null,
   "metadata": {},
   "outputs": [],
   "source": [
    "#Good Fit/Intuition with low bias and low variance\n",
    "x = np.array([-10, 10])\n",
    "y = np.array([-10, 10])\n",
    "means = [x.mean(), y.mean()]  \n",
    "stds = [x.std() / 3, y.std() / 3]\n",
    "covs = [[stds[0]**2, stds[0]*stds[1]*0.2], \n",
    "[stds[0]*stds[1]*0.2, stds[1]**2]] \n",
    "m = np.sort(np.random.multivariate_normal(means, covs, 8).T)\n",
    "fig, ax = plt.subplots(1,3, figsize=(15, 5))\n",
    "ax[0].scatter(m[0], m[1], color='blue', s=100)\n",
    "ax[0].plot(m[0], m[1], color='red')\n",
    "x = np.linspace(10, -10, 100)\n",
    "y = -x**2 + 4*x + 2  \n",
    "ax[2].plot(x, y, color='red')\n",
    "x = x + np.random.uniform(-5, 5, size=x.shape)\n",
    "y = y + np.random.uniform(-10, 10, size=y.shape)\n",
    "ax[1].scatter(x, y, c='b')\n",
    "ax[2].scatter(x, y, c='b')\n",
    "x_lin = np.array([-10,10])\n",
    "tmp_f_mb = compute_model_output(x_lin, 10, -10,)\n",
    "ax[1].plot(x_lin, tmp_f_mb, c='r')\n",
    "ax[0].title.set_text(\"High Variance/Overfitting\")\n",
    "ax[1].title.set_text(\"High Bias/Underfitting\")\n",
    "ax[2].title.set_text(\"Low Bias and Low Variance/Good Fit\")\n",
    "for ax in ax.flat:\n",
    "    ax.set_xticks([])\n",
    "    ax.set_xticklabels([])\n",
    "    ax.set_yticks([])\n",
    "    ax.set_yticklabels([])\n",
    "\n",
    "plt.show()"
   ]
  }
 ],
 "metadata": {
  "kernelspec": {
   "display_name": "Python 3",
   "language": "python",
   "name": "python3"
  },
  "language_info": {
   "codemirror_mode": {
    "name": "ipython",
    "version": 3
   },
   "file_extension": ".py",
   "mimetype": "text/x-python",
   "name": "python",
   "nbconvert_exporter": "python",
   "pygments_lexer": "ipython3",
   "version": "3.12.1"
  }
 },
 "nbformat": 4,
 "nbformat_minor": 2
}
