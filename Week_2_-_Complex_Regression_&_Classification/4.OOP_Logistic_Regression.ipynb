{
 "cells": [
  {
   "cell_type": "markdown",
   "metadata": {},
   "source": [
    "# OOP Logistic Regression Implementation"
   ]
  },
  {
   "cell_type": "markdown",
   "metadata": {},
   "source": [
    "This Jupyter Notebook provides a basic implementation of Logistic Regression for categorisation. The data set contains measurements on a single species of insect captured on two continents. We want to predict an insects continent given the other measurements we have."
   ]
  },
  {
   "cell_type": "markdown",
   "metadata": {},
   "source": [
    "#### Step 1 - Import Dependencies"
   ]
  },
  {
   "cell_type": "code",
   "execution_count": null,
   "metadata": {
    "collapsed": false
   },
   "outputs": [],
   "source": [
    "import numpy as np\n",
    "import pandas as pd\n",
    "\n",
    "%matplotlib inline\n",
    "import matplotlib.pyplot as plt\n",
    "plt.style.use('ggplot')\n",
    "\n",
    "from sklearn.linear_model import LogisticRegression\n",
    "\n",
    "from sklearn.metrics import mean_absolute_error,mean_squared_error "
   ]
  },
  {
   "cell_type": "markdown",
   "metadata": {},
   "source": [
    "#### Step 2 - Import And Visualise The Data"
   ]
  },
  {
   "cell_type": "code",
   "execution_count": null,
   "metadata": {
    "collapsed": true
   },
   "outputs": [],
   "source": [
    "#Import data as a Pandas DataFrame\n",
    "insects = pd.read_csv('./data/insects.csv', sep='\\t')\n",
    "insects = pd.DataFrame({\n",
    "    'continent': insects['continent'],\n",
    "    'latitude': insects['latitude'],\n",
    "    'sex': insects['sex'],\n",
    "    'wingsize': insects['wingsize']\n",
    "})\n",
    "\n",
    "# Features variable\n",
    "X_insects = insects[['wingsize', 'latitude', 'sex']]\n",
    "# Target variable\n",
    "y_insects = insects['continent']\n",
    "\n",
    "insects.head()"
   ]
  },
  {
   "cell_type": "code",
   "execution_count": null,
   "metadata": {},
   "outputs": [],
   "source": [
    "# Plot the data, colour coded by sex\n",
    "ax = plt.scatter(insects.continent, insects.wingsize, c=insects['sex'])\n",
    "plt.xlabel(\"Wingsize\")\n",
    "plt.ylabel(\"Sex\")\n",
    "plt.colorbar()\n",
    "plt.show()"
   ]
  },
  {
   "cell_type": "markdown",
   "metadata": {},
   "source": [
    "#### Step 3: Instantiate a LogisticRegression Object"
   ]
  },
  {
   "cell_type": "code",
   "execution_count": null,
   "metadata": {
    "collapsed": true
   },
   "outputs": [],
   "source": [
    "insects_regression = LogisticRegression()"
   ]
  },
  {
   "cell_type": "markdown",
   "metadata": {},
   "source": [
    "#### Step 4: Fit the model"
   ]
  },
  {
   "cell_type": "code",
   "execution_count": null,
   "metadata": {
    "collapsed": false
   },
   "outputs": [],
   "source": [
    "insects_regression.fit(X_insects, y_insects)"
   ]
  },
  {
   "cell_type": "markdown",
   "metadata": {},
   "source": [
    "Now that the regression has been fit, we can use the `predict` method to forecast whether our model thinks a family will switch wells."
   ]
  },
  {
   "cell_type": "code",
   "execution_count": null,
   "metadata": {
    "collapsed": false
   },
   "outputs": [],
   "source": [
    "# Predict the target for the whole dataset\n",
    "insects_predictions = insects_regression.predict(X_insects)\n",
    "\n",
    "#Predict the target for a new data point\n",
    "new_insect = pd.DataFrame({\n",
    "    'wingsize': [1],\n",
    "    'latitude': [40],\n",
    "    'sex': [0]\n",
    "})\n",
    "new_insect['continent'] = insects_regression.predict(new_insect)\n",
    "print(f\"New insect is:\\n{new_insect}\")"
   ]
  },
  {
   "cell_type": "markdown",
   "metadata": {},
   "source": [
    "Additionally (and in many cases more usefully), the `LogisticRegression` has a `predict_proba` method that produces a predicted **probability**."
   ]
  },
  {
   "cell_type": "code",
   "execution_count": null,
   "metadata": {
    "collapsed": false
   },
   "outputs": [],
   "source": [
    "#Predict the probabilities for the whole dataset\n",
    "insects_probabilities = insects_regression.predict_proba(X_insects)\n",
    "\n",
    "#Predict the probabilities for a new data point\n",
    "new_insect = pd.DataFrame({\n",
    "    'wingsize': [1],\n",
    "    'latitude': [40],\n",
    "    'sex': [0]\n",
    "})\n",
    "new_insect_probabilities = insects_regression.predict_proba(new_insect)\n",
    "print(f\"Probabilities for new insect are:\\n{new_insect_probabilities}\")"
   ]
  },
  {
   "cell_type": "markdown",
   "metadata": {},
   "source": [
    "#### Step 5: Plot the Predictions"
   ]
  },
  {
   "cell_type": "code",
   "execution_count": null,
   "metadata": {
    "collapsed": false
   },
   "outputs": [],
   "source": [
    "#Plot the predictions compared to the actual data\n",
    "fig, axs = plt.subplots(1, 3, figsize=(14, 5))\n",
    "\n",
    "axs[0].scatter(insects.wingsize, insects.continent, s=40, c=insects['sex'])\n",
    "axs[0].set_title(\"Actual Data\")\n",
    "axs[0].set_xlabel(\"Wingsize\")\n",
    "axs[0].set_ylabel(\"Continent\")\n",
    "\n",
    "axs[1].scatter(insects.wingsize, insects_probabilities[:, 1], s=40, c=insects['sex'])\n",
    "axs[1].set_title(\"Prediction Probabilities\")\n",
    "axs[1].set_xlabel(\"Wingsize\")\n",
    "axs[1].set_ylabel(\"Continent Probability\")\n",
    "\n",
    "axs[2].scatter(insects.wingsize, insects_predictions, s=40, c=insects['sex'])\n",
    "axs[2].set_title(\"Predicted Data\")\n",
    "axs[2].set_xlabel(\"Wingsize\")\n",
    "axs[2].set_ylabel(\"Continent Prediction\")"
   ]
  },
  {
   "cell_type": "markdown",
   "metadata": {},
   "source": [
    "#### Step 6: Evaluate The Model"
   ]
  },
  {
   "cell_type": "code",
   "execution_count": null,
   "metadata": {},
   "outputs": [],
   "source": [
    "mae = mean_absolute_error(y_true=y_insects,y_pred=insects_probabilities[:, 1]) \n",
    "mse = mean_squared_error(y_true=y_insects,y_pred=insects_probabilities[:, 1])\n",
    "print(\"MAE:\",mae) \n",
    "print(\"MSE:\",mse) \n",
    "print()\n",
    "\n",
    "#Calculate the loss and cost of the model\n",
    "model_loss = pd.DataFrame({\n",
    "    'Target': y_insects,\n",
    "    'Predicted result': insects_probabilities[:, 1],\n",
    "    'Loss': abs(y_insects - insects_regression.predict(X_insects).round(2))\n",
    "})\n",
    "model_loss[\"Predicted result\"] = model_loss[\"Predicted result\"].round(0)\n",
    "model_loss[\"Loss\"] = model_loss[\"Loss\"].abs()\n",
    "model_cost = (1/model_loss.shape[0]) * (model_loss['Loss'].sum() / model_loss.shape[0])\n",
    "\n",
    "print(f\"The cost of this model is  {model_cost:.5f}\")\n",
    "print(f\"The model predicted incorrectly {model_loss['Loss'].sum()} times out of {model_loss.shape[0]} predictions\")\n",
    "print(model_loss)"
   ]
  }
 ],
 "metadata": {
  "anaconda-cloud": {},
  "kernelspec": {
   "display_name": "Python 3",
   "language": "python",
   "name": "python3"
  },
  "language_info": {
   "codemirror_mode": {
    "name": "ipython",
    "version": 3
   },
   "file_extension": ".py",
   "mimetype": "text/x-python",
   "name": "python",
   "nbconvert_exporter": "python",
   "pygments_lexer": "ipython3",
   "version": "3.12.1"
  }
 },
 "nbformat": 4,
 "nbformat_minor": 0
}
