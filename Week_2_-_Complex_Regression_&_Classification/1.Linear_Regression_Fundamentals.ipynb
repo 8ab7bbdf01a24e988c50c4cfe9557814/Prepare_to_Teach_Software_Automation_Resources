{
 "cells": [
  {
   "cell_type": "markdown",
   "metadata": {},
   "source": [
    "# Complex Linear Regression"
   ]
  },
  {
   "cell_type": "code",
   "execution_count": null,
   "metadata": {},
   "outputs": [],
   "source": [
    "import numpy as np\n",
    "import pandas as pd\n",
    "import matplotlib.pyplot as plt\n",
    "from sklearn.linear_model import LinearRegression\n",
    "\n",
    "plt.style.use('./deeplearning.mplstyle')"
   ]
  },
  {
   "cell_type": "markdown",
   "metadata": {},
   "source": [
    "#### Mulitple Feature Linear Regression\n",
    "\n",
    "A simplified multi feature linear function\n",
    "\n",
    "```math\n",
    "y = mx[i] + b\n",
    "```\n",
    "\n",
    "| Symbol | |\n",
    "| --- | --- |\n",
    "| y | Predicted value |\n",
    "| m | Slope of coefecient of the linear expression |\n",
    "| x | Feature**s** |\n",
    "| b | y-intercept when the line crosses the y axis |\n"
   ]
  },
  {
   "cell_type": "code",
   "execution_count": null,
   "metadata": {},
   "outputs": [],
   "source": [
    "n_samples = 100\n",
    "X1 = np.random.rand(n_samples) * 10 \n",
    "X2 = np.random.rand(n_samples) * 10 \n",
    "y = 3 * X1 + 5 * X2 + np.random.randn(n_samples) * 2  \n",
    "\n",
    "data = pd.DataFrame({'Feature1': X1, 'Feature2': X2, 'Target': y})\n",
    "# Training a Linear Regression Model\n",
    "model = LinearRegression()\n",
    "X = data[['Feature1', 'Feature2']]\n",
    "model.fit(X, y)\n",
    "\n",
    "intercept = model.intercept_\n",
    "coefficients = model.coef_\n",
    "# Creating a 3D graph\n",
    "fig = plt.figure(figsize=(10, 7))\n",
    "ax = fig.add_subplot(111, projection='3d')\n",
    "\n",
    "ax.scatter(data['Feature1'], data['Feature2'], data['Target'], color='blue')\n",
    "\n",
    "x1_range = np.linspace(data['Feature1'].min(), data['Feature1'].max(), 10)\n",
    "x2_range = np.linspace(data['Feature2'].min(), data['Feature2'].max(), 10)\n",
    "X1_grid, X2_grid = np.meshgrid(x1_range, x2_range)\n",
    "\n",
    "y_pred = intercept + coefficients[0] * X1_grid + coefficients[1] * X2_grid\n",
    "\n",
    "ax.plot_surface(X1_grid, X2_grid, y_pred, color='orange', alpha=0.5)\n",
    "\n",
    "ax.set_xlabel('Feature 1')\n",
    "ax.set_ylabel('Feature 2')\n",
    "ax.set_zlabel('Target')\n",
    "\n",
    "plt.show()"
   ]
  },
  {
   "cell_type": "markdown",
   "metadata": {},
   "source": [
    "#### Polynomial Linear Regression\n",
    "\n",
    "A simplified polynomial linear function\n",
    "\n",
    "```math\n",
    "y = f(m)x[i]) + b\n",
    "```\n",
    "\n",
    "| Symbol | |\n",
    "| --- | --- |\n",
    "| y | Predicted value |\n",
    "| f(m) | Slope as a function in degrees of coefficients of the linear expression |\n",
    "| x | Feature or Feature**s** |\n",
    "| b | y-intercept when the line crosses the y axis |\n"
   ]
  },
  {
   "cell_type": "code",
   "execution_count": null,
   "metadata": {},
   "outputs": [],
   "source": [
    "# Polynomial Linear Relationship\n",
    "n = 300 # Sample\n",
    "Beta = [0, 1, -2, 0.5]\n",
    "e = np.random.normal(-3, 4, n)\n",
    "X = 2 - 3 * np.random.normal(0, 0.5, n)\n",
    "y = 0\n",
    "for i in range(len(Beta)):\n",
    "    y += Beta[i] * X**i\n",
    "y += e\n",
    "\n",
    "plt.xlabel(\"Feature\")\n",
    "plt.ylabel(\"Target\")\n",
    "plt.scatter(X, y, s=10)\n",
    "plt.show()"
   ]
  }
 ],
 "metadata": {
  "kernelspec": {
   "display_name": "Python 3",
   "language": "python",
   "name": "python3"
  },
  "language_info": {
   "codemirror_mode": {
    "name": "ipython",
    "version": 3
   },
   "file_extension": ".py",
   "mimetype": "text/x-python",
   "name": "python",
   "nbconvert_exporter": "python",
   "pygments_lexer": "ipython3",
   "version": "3.12.1"
  }
 },
 "nbformat": 4,
 "nbformat_minor": 2
}
