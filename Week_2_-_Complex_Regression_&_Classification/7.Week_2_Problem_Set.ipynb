{
 "cells": [
  {
   "cell_type": "markdown",
   "metadata": {},
   "source": [
    "# Week 2 - Problem Set\n",
    "\n",
    "Pratice what you learnt today with these problems, the answers will be shared on Monday before the next workshop."
   ]
  },
  {
   "cell_type": "code",
   "execution_count": null,
   "metadata": {},
   "outputs": [],
   "source": [
    "# Run the dependencies before you begin\n",
    "import numpy as np\n",
    "import matplotlib.pyplot as plt\n",
    "\n",
    "plt.style.use('./deeplearning.mplstyle')"
   ]
  },
  {
   "cell_type": "markdown",
   "metadata": {},
   "source": [
    "**1. Using MD syntax create a table of the two regression algorithms covered so far, with the following headings**\n",
    "\n",
    "- Algorythm\n",
    "- Regression or Classification\n",
    "- Popular uses"
   ]
  },
  {
   "cell_type": "markdown",
   "metadata": {},
   "source": [
    "**2. In a markdown block outline why only 2-3 degrees of polynomial expression are recomended.**\n"
   ]
  },
  {
   "cell_type": "markdown",
   "metadata": {},
   "source": [
    "**3. Modify the below code block to label the two catgories, apply a colour to each category, enable the legend, add a title \"Logistic Data\" and label the X & Y Axis with \"Feature\" & \"Target\".**\n",
    "\n",
    "| Category | Label |\n",
    "| --- | --- |\n",
    "| 0 | Australia |\n",
    "| 1 | New Zealand |"
   ]
  },
  {
   "cell_type": "code",
   "execution_count": null,
   "metadata": {},
   "outputs": [],
   "source": [
    "# Linear Regression For Classification\n",
    "correlation = 0.8       # Correlation between -1 and 1\n",
    "n = 300                 # Sample\n",
    "\n",
    "xx = np.array([20, 50])\n",
    "yy = np.array([0, 0])\n",
    "means = [xx.mean(), yy.mean()]  \n",
    "stds = [xx.std() / 3, yy.std() / 3]\n",
    "covs = [[stds[0]**2, stds[0]*stds[1]*correlation], \n",
    "[stds[0]*stds[1]*correlation, stds[1]**2]] \n",
    "m = np.random.multivariate_normal(means, covs, n).T\n",
    "\n",
    "xx = np.array([0, 30])\n",
    "yy = np.array([1, 1])\n",
    "means = [xx.mean(), yy.mean()]  \n",
    "stds = [xx.std() / 3, yy.std() / 3]\n",
    "covs = [[stds[0]**2, stds[0]*stds[1]*correlation], \n",
    "[stds[0]*stds[1]*correlation, stds[1]**2]] \n",
    "n = np.random.multivariate_normal(means, covs, n).T\n",
    "plt.scatter(m[0], m[1], c='r')\n",
    "plt.scatter(n[0], n[1], c='r')\n",
    "plt.show()"
   ]
  },
  {
   "cell_type": "markdown",
   "metadata": {},
   "source": [
    "**4. In a markdown block outline why is Linear regression is not a good machine learning model for classification?**"
   ]
  },
  {
   "cell_type": "markdown",
   "metadata": {},
   "source": [
    "__5. In a markdown block outline the machine learning Logistic Regression Algorythm__"
   ]
  },
  {
   "cell_type": "markdown",
   "metadata": {},
   "source": [
    "**6. Using the [OOP Logistic Regression](4.OOP_Logistic_Regression.ipynb) as a example, design, fit and evaluate an [Iris classification OOP implementaion](6.OOP_Iris_Logistic_Regression.ipynb).**"
   ]
  }
 ],
 "metadata": {
  "kernelspec": {
   "display_name": "Python 3",
   "language": "python",
   "name": "python3"
  },
  "language_info": {
   "codemirror_mode": {
    "name": "ipython",
    "version": 3
   },
   "file_extension": ".py",
   "mimetype": "text/x-python",
   "name": "python",
   "nbconvert_exporter": "python",
   "pygments_lexer": "ipython3",
   "version": "3.12.1"
  }
 },
 "nbformat": 4,
 "nbformat_minor": 2
}
