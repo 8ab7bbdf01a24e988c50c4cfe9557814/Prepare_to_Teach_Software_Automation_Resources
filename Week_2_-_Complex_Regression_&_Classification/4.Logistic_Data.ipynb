{
 "cells": [
  {
   "cell_type": "markdown",
   "metadata": {},
   "source": [
    "# Data for Classification"
   ]
  },
  {
   "cell_type": "markdown",
   "metadata": {},
   "source": [
    "#### Import Dependancies"
   ]
  },
  {
   "cell_type": "code",
   "execution_count": null,
   "metadata": {},
   "outputs": [],
   "source": [
    "import numpy as np\n",
    "import matplotlib.pyplot as plt"
   ]
  },
  {
   "cell_type": "code",
   "execution_count": null,
   "metadata": {},
   "outputs": [],
   "source": [
    "# Linear Regression For Classification\n",
    "correlation = 0.8       # Correlation between -1 and 1\n",
    "n = 300                 # Sample\n",
    "\n",
    "xx = np.array([25, 50])\n",
    "yy = np.array([25, 50])\n",
    "means = [xx.mean(), yy.mean()]  \n",
    "stds = [xx.std() / 3, yy.std() / 3]\n",
    "covs = [[stds[0]**2, stds[0]*stds[1]*correlation], \n",
    "[stds[0]*stds[1]*correlation, stds[1]**2]] \n",
    "m = np.random.multivariate_normal(means, covs, n).T\n",
    "\n",
    "xx = np.array([0, 25])\n",
    "yy = np.array([0, 25])\n",
    "means = [xx.mean(), yy.mean()]  \n",
    "stds = [xx.std() / 3, yy.std() / 3]\n",
    "covs = [[stds[0]**2, stds[0]*stds[1]*correlation], \n",
    "[stds[0]*stds[1]*correlation, stds[1]**2]] \n",
    "n = np.random.multivariate_normal(means, covs, n).T\n",
    "\n",
    "plt.xlabel(\"Feature\")\n",
    "plt.ylabel(\"Target\")\n",
    "plt.scatter(m[0], m[1], color='red')\n",
    "plt.scatter(n[0], n[1], color='blue')\n",
    "plt.show()"
   ]
  },
  {
   "cell_type": "code",
   "execution_count": null,
   "metadata": {},
   "outputs": [],
   "source": [
    "#Sigmoid Function\n",
    "x = np.linspace(-10, 10, 101)\n",
    "y = x**7 + 0.1*x + 2  \n",
    "\n",
    "plt.xlabel(\"Parameters (Coef & y_intercept)\")\n",
    "plt.ylabel(\"Cost\")\n",
    "plt.plot(x, 1/(1+np.exp(-x)))\n",
    "plt.show()"
   ]
  },
  {
   "cell_type": "code",
   "execution_count": null,
   "metadata": {},
   "outputs": [],
   "source": [
    "def logistic(z):\n",
    "    return 1 / (1 + np.exp(-z))\n",
    "\n",
    "theta = np.array([[4], [-2]])\n",
    "p = len(theta)\n",
    "n = 50\n",
    "np.random.seed(2)\n",
    "X = np.random.rand(n, p)\n",
    "z = np.dot(X, theta)\n",
    "prob = logistic(z)\n",
    "y = np.random.binomial(1, prob.flatten())\n",
    "\n",
    "plt.xlabel(\"Parameters (Coef & y_intercept)\")\n",
    "plt.ylabel(\"Cost\")\n",
    "plt.scatter(X[:, 0], y, c=y)\n",
    "plt.show()\n"
   ]
  }
 ],
 "metadata": {
  "kernelspec": {
   "display_name": "Python 3",
   "language": "python",
   "name": "python3"
  },
  "language_info": {
   "codemirror_mode": {
    "name": "ipython",
    "version": 3
   },
   "file_extension": ".py",
   "mimetype": "text/x-python",
   "name": "python",
   "nbconvert_exporter": "python",
   "pygments_lexer": "ipython3",
   "version": "3.12.1"
  }
 },
 "nbformat": 4,
 "nbformat_minor": 2
}
