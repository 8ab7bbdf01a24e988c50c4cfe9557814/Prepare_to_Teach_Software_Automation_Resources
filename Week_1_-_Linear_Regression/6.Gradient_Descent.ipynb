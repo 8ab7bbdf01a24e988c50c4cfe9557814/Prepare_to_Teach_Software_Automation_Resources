{
 "cells": [
  {
   "cell_type": "markdown",
   "metadata": {},
   "source": [
    "# Gradient Descent for Linear Regression\n",
    "\n",
    "Automating the process of optimizing $m$ and $b$ using gradient descent."
   ]
  },
  {
   "cell_type": "code",
   "execution_count": null,
   "id": "cef2e914",
   "metadata": {},
   "outputs": [],
   "source": [
    "import math, copy\n",
    "import numpy as np\n",
    "import matplotlib.pyplot as plt\n",
    "plt.style.use('./deeplearning.mplstyle')\n",
    "from utils_uni import plt_contour_wgrad, plt_divergence, plt_gradients"
   ]
  },
  {
   "cell_type": "code",
   "execution_count": null,
   "id": "0ec3cc4d",
   "metadata": {},
   "outputs": [],
   "source": [
    "# Load our data set\n",
    "x_train = np.array([1.0, 2.0])   #features\n",
    "y_train = np.array([300.0, 500.0])   #target value"
   ]
  },
  {
   "cell_type": "markdown",
   "id": "dec29d8d",
   "metadata": {},
   "source": [
    "#### Implement Gradient Descent\n",
    "To implement gradient descent algorithm for one feature. You will need three functions. \n",
    "- `compute_gradient`\n",
    "- `compute_cost` (code from previous lab)\n",
    "- `gradient_descent`"
   ]
  },
  {
   "cell_type": "code",
   "execution_count": null,
   "id": "a915d03c",
   "metadata": {},
   "outputs": [],
   "source": [
    "def compute_cost(x, y, m, b): \n",
    "    # number of training examples\n",
    "    n = x.shape[0] \n",
    "    cost_sum = 0 \n",
    "    for i in range(n): \n",
    "        f_mb = m * x[i] + b   \n",
    "        cost = (f_mb - y[i]) ** 2  \n",
    "        cost_sum = cost_sum + cost  \n",
    "    total_cost = (1 / (2 * n)) * cost_sum  \n",
    "    return total_cost"
   ]
  },
  {
   "cell_type": "code",
   "execution_count": null,
   "id": "d234bea4",
   "metadata": {},
   "outputs": [],
   "source": [
    "def compute_gradient(x, y, m, b): \n",
    "    \"\"\"\n",
    "    Computes the gradient for linear regression \n",
    "    Args:\n",
    "      x (ndarray (m,)): Data, m examples \n",
    "      y (ndarray (m,)): target values\n",
    "      m,b (scalar)    : model parameters  \n",
    "    Returns\n",
    "      dj_dm (scalar): The gradient of the cost w.r.t. the parameters w\n",
    "      dj_db (scalar): The gradient of the cost w.r.t. the parameter b     \n",
    "     \"\"\"\n",
    "    # Number of training examples\n",
    "    n = x.shape[0]    \n",
    "    dj_dm = 0\n",
    "    dj_db = 0\n",
    "    \n",
    "    for i in range(n):  \n",
    "        f_mb = m * x[i] + b \n",
    "        dj_dm_i = (f_mb - y[i]) * x[i] \n",
    "        dj_db_i = f_mb - y[i] \n",
    "        dj_db += dj_db_i\n",
    "        dj_dm += dj_dm_i \n",
    "    dj_dm = dj_dm / n \n",
    "    dj_db = dj_db / n \n",
    "        \n",
    "    return dj_dm, dj_db"
   ]
  },
  {
   "cell_type": "markdown",
   "id": "6e6c08ec",
   "metadata": {},
   "source": [
    "#### Visualise Gradient Decent"
   ]
  },
  {
   "cell_type": "code",
   "execution_count": null,
   "id": "d3fe9123",
   "metadata": {},
   "outputs": [],
   "source": [
    "plt_gradients(x_train,y_train, compute_cost, compute_gradient)\n",
    "plt.show()"
   ]
  },
  {
   "cell_type": "markdown",
   "id": "6d0b9f52",
   "metadata": {},
   "source": [
    "####  Gradient Descent"
   ]
  },
  {
   "cell_type": "code",
   "execution_count": null,
   "id": "f1795966",
   "metadata": {},
   "outputs": [],
   "source": [
    "def gradient_descent(x, y, m_in, b_in, alpha, num_iters, cost_function, gradient_function): \n",
    "    \"\"\"\n",
    "    Performs gradient descent to fit w,b. Updates w,b by taking \n",
    "    num_iters gradient steps with learning rate alpha\n",
    "    \n",
    "    Args:\n",
    "      x (ndarray (m,))  : Data, m examples \n",
    "      y (ndarray (m,))  : target values\n",
    "      m_in,b_in (scalar): initial values of model parameters  \n",
    "      alpha (float):     Learning rate\n",
    "      num_iters (int):   number of iterations to run gradient descent\n",
    "      cost_function:     function to call to produce cost\n",
    "      gradient_function: function to call to produce gradient\n",
    "      \n",
    "    Returns:\n",
    "      m (scalar): Updated value of parameter after running gradient descent\n",
    "      b (scalar): Updated value of parameter after running gradient descent\n",
    "      J_history (List): History of cost values\n",
    "      p_history (list): History of parameters [m,b] \n",
    "      \"\"\"\n",
    "    \n",
    "    # An array to store cost J and m's at each iteration primarily for graphing later\n",
    "    J_history = []\n",
    "    p_history = []\n",
    "    b = b_in\n",
    "    m = m_in\n",
    "    \n",
    "    for i in range(num_iters):\n",
    "        # Calculate the gradient and update the parameters using gradient_function\n",
    "        dj_dm, dj_db = gradient_function(x, y, m , b)     \n",
    "\n",
    "        # Update Parameters using equation (3) above\n",
    "        b = b - alpha * dj_db                            \n",
    "        m = m - alpha * dj_dm                            \n",
    "\n",
    "        # Save cost J at each iteration\n",
    "        if i<100000:      # prevent resource exhaustion \n",
    "            J_history.append( cost_function(x, y, m , b))\n",
    "            p_history.append([m,b])\n",
    "        # Print cost every at intervals 10 times or as many iterations if < 10\n",
    "        if i% math.ceil(num_iters/10) == 0:\n",
    "            print(f\"Iteration {i:4}: Cost {J_history[-1]:0.2e} \",\n",
    "                  f\"dj_dm: {dj_dm: 0.3e}, dj_db: {dj_db: 0.3e}  \",\n",
    "                  f\"m: {m: 0.3e}, b:{b: 0.5e}\")\n",
    " \n",
    "    return m, b, J_history, p_history #return mb and J,m history for graphing"
   ]
  },
  {
   "cell_type": "code",
   "execution_count": null,
   "id": "b3d4b57f",
   "metadata": {},
   "outputs": [],
   "source": [
    "# initialize parameters\n",
    "m_init = 0\n",
    "b_init = 0\n",
    "# some gradient descent settings\n",
    "iterations = 10000\n",
    "tmp_alpha = 1.0e-2\n",
    "# run gradient descent\n",
    "m_final, b_final, J_hist, p_hist = gradient_descent(x_train ,y_train, m_init, b_init, tmp_alpha, \n",
    "                                                    iterations, compute_cost, compute_gradient)\n",
    "print(f\"(m,b) found by gradient descent: ({m_final:8.4f},{b_final:8.4f})\")"
   ]
  },
  {
   "cell_type": "markdown",
   "id": "92db7a4c",
   "metadata": {},
   "source": [
    "### Cost versus iterations of gradient descent \n",
    "A plot of cost versus iterations is a useful measure of progress in gradient descent. Cost should always decrease in successful runs."
   ]
  },
  {
   "cell_type": "code",
   "execution_count": null,
   "id": "c5b01cd4",
   "metadata": {},
   "outputs": [],
   "source": [
    "# plot cost versus iteration  \n",
    "fig, (ax1, ax2) = plt.subplots(1, 2, constrained_layout=True, figsize=(12,4))\n",
    "ax1.plot(J_hist[:100])\n",
    "ax2.plot(1000 + np.arange(len(J_hist[1000:])), J_hist[1000:])\n",
    "ax1.set_title(\"Cost vs. iteration(start)\");  ax2.set_title(\"Cost vs. iteration (end)\")\n",
    "ax1.set_ylabel('Cost')            ;  ax2.set_ylabel('Cost') \n",
    "ax1.set_xlabel('iteration step')  ;  ax2.set_xlabel('iteration step') \n",
    "plt.show()"
   ]
  },
  {
   "cell_type": "markdown",
   "id": "8b01fe59",
   "metadata": {},
   "source": [
    "#### Predictions\n"
   ]
  },
  {
   "cell_type": "code",
   "execution_count": null,
   "id": "144c5bb7",
   "metadata": {},
   "outputs": [],
   "source": [
    "print(f\"Feature = 1 prediction {m_final*1.0 + b_final:0.1f}\")\n",
    "print(f\"Feature = 1.2 prediction {m_final*1.2 + b_final:0.1f}\")\n",
    "print(f\"Feature = 2 prediction {m_final*2.0 + b_final:0.1f}\")"
   ]
  },
  {
   "cell_type": "markdown",
   "id": "5a2c6be9",
   "metadata": {},
   "source": [
    "#### Progress of gradient descent"
   ]
  },
  {
   "cell_type": "code",
   "execution_count": null,
   "id": "df66f677",
   "metadata": {},
   "outputs": [],
   "source": [
    "fig, ax = plt.subplots(1,1, figsize=(12, 4))\n",
    "plt_contour_wgrad(x_train, y_train, p_hist, ax, w_range=[180, 220, 0.5], b_range=[80, 120, 0.5],\n",
    "            contours=[1,5,10,20],resolution=0.5)"
   ]
  },
  {
   "cell_type": "markdown",
   "id": "0c830a52",
   "metadata": {},
   "source": [
    "#### Increased Learning Rate"
   ]
  },
  {
   "cell_type": "code",
   "execution_count": null,
   "id": "61355603",
   "metadata": {},
   "outputs": [],
   "source": [
    "# initialize parameters\n",
    "w_init = 0\n",
    "b_init = 0\n",
    "# set alpha to a large value\n",
    "iterations = 10\n",
    "tmp_alpha = 8.0e-1\n",
    "# run gradient descent\n",
    "w_final, b_final, J_hist, p_hist = gradient_descent(x_train ,y_train, w_init, b_init, tmp_alpha, \n",
    "                                                    iterations, compute_cost, compute_gradient)"
   ]
  },
  {
   "cell_type": "code",
   "execution_count": null,
   "id": "22f4dbfe",
   "metadata": {},
   "outputs": [],
   "source": [
    "plt_divergence(p_hist, J_hist,x_train, y_train)\n",
    "plt.show()"
   ]
  }
 ],
 "metadata": {
  "dl_toc_settings": {
   "rndtag": "40291"
  },
  "kernelspec": {
   "display_name": "Python 3",
   "language": "python",
   "name": "python3"
  },
  "language_info": {
   "codemirror_mode": {
    "name": "ipython",
    "version": 3
   },
   "file_extension": ".py",
   "mimetype": "text/x-python",
   "name": "python",
   "nbconvert_exporter": "python",
   "pygments_lexer": "ipython3",
   "version": "3.12.1"
  },
  "toc-autonumbering": false
 },
 "nbformat": 4,
 "nbformat_minor": 5
}
