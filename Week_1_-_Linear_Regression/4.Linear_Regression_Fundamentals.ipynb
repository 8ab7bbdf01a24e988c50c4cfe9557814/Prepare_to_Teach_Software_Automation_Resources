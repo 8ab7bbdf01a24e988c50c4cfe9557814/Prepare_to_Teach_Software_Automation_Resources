{
 "cells": [
  {
   "cell_type": "markdown",
   "metadata": {},
   "source": [
    "# Linear Regression Fundamentals"
   ]
  },
  {
   "cell_type": "code",
   "execution_count": null,
   "metadata": {},
   "outputs": [],
   "source": [
    "import numpy as np\n",
    "import pandas as pd\n",
    "import matplotlib.pyplot as plt\n",
    "from sklearn.linear_model import LinearRegression\n",
    "\n",
    "plt.style.use('./deeplearning.mplstyle')"
   ]
  },
  {
   "cell_type": "markdown",
   "metadata": {},
   "source": [
    "A simple linear function\n",
    "\n",
    "```math\n",
    "y = mx + b\n",
    "```\n",
    "\n",
    "| Symbol | |\n",
    "| --- | --- |\n",
    "| y | Predicted value |\n",
    "| m | Slope of coefecient of the linear expression |\n",
    "| x | Feature |\n",
    "| b | y-intercept when the line corsses the y axis |\n"
   ]
  },
  {
   "cell_type": "code",
   "execution_count": null,
   "metadata": {},
   "outputs": [],
   "source": [
    "x_train = np.array([[2], [4], [6], [8], [10]])\n",
    "y_train = np.array([1, 3, 5, 7, 9])"
   ]
  },
  {
   "cell_type": "code",
   "execution_count": null,
   "metadata": {},
   "outputs": [],
   "source": [
    "def compute_model_output(x, m, b):\n",
    "    \"\"\"\n",
    "    Computes the prediction of a linear model\n",
    "    Args:\n",
    "        x (ndarray (X,)): Data, X examples \n",
    "        m,b (scalar)    : model parameters  \n",
    "    Returns\n",
    "        f_wb (ndarray (y_pred,)): model prediction\n",
    "    \"\"\"\n",
    "    X = x.shape[0]\n",
    "    y_pred = np.zeros(X)\n",
    "    for i in range(X):\n",
    "        y_pred[i] = m * x[i].item() + b\n",
    "    return y_pred"
   ]
  },
  {
   "cell_type": "code",
   "execution_count": null,
   "metadata": {},
   "outputs": [],
   "source": [
    "m = 0\n",
    "b = 0\n",
    "\n",
    "tmp_f_mb = compute_model_output(x_train, m, b,)\n",
    "\n",
    "# Plot our model prediction\n",
    "plt.plot(x_train, tmp_f_mb, c='b',label='Our Prediction')\n",
    "\n",
    "# Plot the data points\n",
    "plt.scatter(x_train, y_train, marker='x', c='r',label='Actual Values')\n",
    "\n",
    "# Set the title\n",
    "plt.title(\"Course Specification\")\n",
    "# Set the y-axis label\n",
    "plt.ylabel('Target')\n",
    "# Set the x-axis label\n",
    "plt.xlabel('Feature')\n",
    "plt.legend()\n",
    "plt.show()"
   ]
  },
  {
   "cell_type": "markdown",
   "metadata": {},
   "source": [
    "#### Fit, Good Fit, Underfit & Overfit (also called intuition)"
   ]
  },
  {
   "cell_type": "code",
   "execution_count": null,
   "metadata": {},
   "outputs": [],
   "source": [
    "# Linear Relationship w Adjustable Correlation\n",
    "correlation = 0.8       # Correlation between -1 and 1\n",
    "n = 300                 # Sample\n",
    "\n",
    "xx = np.array([0, 50])\n",
    "yy = np.array([0, 50])\n",
    "means = [xx.mean(), yy.mean()]  \n",
    "stds = [xx.std() / 3, yy.std() / 3]\n",
    "\n",
    "covs = [[stds[0]**2          , stds[0]*stds[1]*correlation], \n",
    "        [stds[0]*stds[1]*correlation,           stds[1]**2]] \n",
    "\n",
    "m = np.random.multivariate_normal(means, covs, n).T\n",
    "plt.xlabel(\"Feature\")\n",
    "plt.ylabel(\"Target\")\n",
    "plt.scatter(m[0], m[1], color='blue')\n",
    "plt.show()"
   ]
  },
  {
   "cell_type": "code",
   "execution_count": null,
   "metadata": {},
   "outputs": [],
   "source": [
    "# Polynomial Linear Relationship\n",
    "n = 300 # Sample\n",
    "Beta = [0, 1, -2, 0.5]\n",
    "e = np.random.normal(-3, 4, n)\n",
    "X = 2 - 3 * np.random.normal(0, 0.5, n)\n",
    "y = 0\n",
    "for i in range(len(Beta)):\n",
    "    y += Beta[i] * X**i\n",
    "y += e\n",
    "\n",
    "plt.xlabel(\"Feature\")\n",
    "plt.ylabel(\"Target\")\n",
    "plt.scatter(X, y, s=10)\n",
    "plt.show()"
   ]
  },
  {
   "cell_type": "code",
   "execution_count": null,
   "metadata": {},
   "outputs": [],
   "source": [
    "n_samples = 100\n",
    "X1 = np.random.rand(n_samples) * 10 \n",
    "X2 = np.random.rand(n_samples) * 10 \n",
    "y = 3 * X1 + 5 * X2 + np.random.randn(n_samples) * 2  \n",
    "\n",
    "data = pd.DataFrame({'Feature1': X1, 'Feature2': X2, 'Target': y})\n",
    "# Training a Linear Regression Model\n",
    "model = LinearRegression()\n",
    "X = data[['Feature1', 'Feature2']]\n",
    "model.fit(X, y)\n",
    "\n",
    "intercept = model.intercept_\n",
    "coefficients = model.coef_\n",
    "# Creating a 3D graph\n",
    "fig = plt.figure(figsize=(10, 7))\n",
    "ax = fig.add_subplot(111, projection='3d')\n",
    "\n",
    "ax.scatter(data['Feature1'], data['Feature2'], data['Target'], color='blue')\n",
    "\n",
    "x1_range = np.linspace(data['Feature1'].min(), data['Feature1'].max(), 10)\n",
    "x2_range = np.linspace(data['Feature2'].min(), data['Feature2'].max(), 10)\n",
    "X1_grid, X2_grid = np.meshgrid(x1_range, x2_range)\n",
    "\n",
    "y_pred = intercept + coefficients[0] * X1_grid + coefficients[1] * X2_grid\n",
    "\n",
    "ax.plot_surface(X1_grid, X2_grid, y_pred, color='orange', alpha=0.5)\n",
    "\n",
    "ax.set_xlabel('Feature 1')\n",
    "ax.set_ylabel('Feature 2')\n",
    "ax.set_zlabel('Target')\n",
    "\n",
    "plt.show()"
   ]
  }
 ],
 "metadata": {
  "kernelspec": {
   "display_name": "Python 3",
   "language": "python",
   "name": "python3"
  },
  "language_info": {
   "codemirror_mode": {
    "name": "ipython",
    "version": 3
   },
   "file_extension": ".py",
   "mimetype": "text/x-python",
   "name": "python",
   "nbconvert_exporter": "python",
   "pygments_lexer": "ipython3",
   "version": "3.12.1"
  }
 },
 "nbformat": 4,
 "nbformat_minor": 2
}
